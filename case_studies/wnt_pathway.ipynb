{
 "cells": [
  {
   "cell_type": "code",
   "execution_count": 1,
   "metadata": {},
   "outputs": [
    {
     "name": "stdout",
     "output_type": "stream",
     "text": [
      "\r"
     ]
    }
   ],
   "source": [
    "include(\"../src/main.jl\");"
   ]
  },
  {
   "cell_type": "markdown",
   "metadata": {},
   "source": [
    "## Construction of the system"
   ]
  },
  {
   "cell_type": "code",
   "execution_count": 72,
   "metadata": {},
   "outputs": [
    {
     "data": {
      "text/plain": [
       "19-element Vector{AbstractAlgebra.Generic.MPoly{QQMPolyRingElem}}:\n",
       " -k1*x1 + k2*x2\n",
       " k1*x1 - k3*x2*x4 + (-k2 - k26)*x2 + k27*x3 + (k4 + k5)*x14\n",
       " -k6*x5*x8 - k28*x5 + k29*x7 + k5*x14 + k7*x16\n",
       " -k14*x3*x6 - k20*x6*x11 + k15*x15 + k19*x17 + (k21 + k22)*x19\n",
       " k28*x5 - k17*x7*x9 - k29*x7 + k16*x15 + k18*x17\n",
       " -k9*x4*x10 + (-k13 - k30)*x10 + k31*x11 + k10*x18 + k12\n",
       " -k20*x6*x11 + k30*x10 - k24*x11*x12 + (-k23 - k31)*x11 + k25*x13 + k21*x19\n",
       " -k24*x11*x12 + k25*x13\n",
       " k3*x2*x4 + (-k4 - k5)*x14\n",
       " k14*x3*x6 + (-k15 - k16)*x15\n",
       " -k6*x5*x8 + (k7 + k8)*x16\n",
       " -k17*x7*x9 + (k18 + k19)*x17\n",
       " k9*x4*x10 + (-k10 - k11)*x18\n",
       " k20*x6*x11 + (-k21 - k22)*x19\n",
       " x1 + x2 + x3 + x14 + x15 - c1\n",
       " x4 + x5 + x6 + x7 + x14 + x15 + x16 + x17 + x18 + x19 - c2\n",
       " x8 + x16 - c3\n",
       " x9 + x17 - c4\n",
       " x12 + x13 - c5"
      ]
     },
     "metadata": {},
     "output_type": "display_data"
    }
   ],
   "source": [
    "# Define ring of parameters\n",
    "A, (k1, k2, k3, k4, k5, k6, k7, k8, k9, k10, k11, k12, k13, k14, k15, k16, k17, k18, k19, k20, k21, k22, k23, k24, k25, k26, k27, k28, k29, k30, k31, c1, c2, c3, c4, c5) =\n",
    "    polynomial_ring(QQ, [\"k1\", \"k2\", \"k3\", \"k4\", \"k5\", \"k6\", \"k7\", \"k8\", \"k9\", \"k10\", \"k11\", \"k12\", \"k13\", \"k14\", \"k15\", \"k16\", \"k17\", \"k18\", \"k19\", \"k20\", \"k21\", \"k22\", \"k23\", \"k24\", \"k25\", \"k26\", \"k27\", \"k28\", \"k29\", \"k30\", \"k31\", \"c1\", \"c2\", \"c3\", \"c4\", \"c5\"]);\n",
    "\n",
    "# Define ring of parameterized polynomials\n",
    "B, (x1, x2, x3, x4, x5, x6, x7, x8, x9, x10, x11, x12, x13, x14, x15, x16, x17, x18, x19) = polynomial_ring(A, [\"x1\", \"x2\", \"x3\", \"x4\", \"x5\", \"x6\", \"x7\", \"x8\", \"x9\", \"x10\", \"x11\", \"x12\", \"x13\", \"x14\", \"x15\", \"x16\", \"x17\", \"x18\", \"x19\"]);\n",
    "\n",
    "# Define the square(!) system of steady state equations and conservation laws\n",
    "steadyStateEqs = [\n",
    "    -k1 * x1 + k2 * x2, # x1\n",
    "    k1 * x1 - (k2 + k26) * x2 + k27 * x3 - k3 * x2 * x4 + (k4 + k5) * x14, # x2\n",
    "    k26 * x2 - k27 * x3 - k14 * x3 * x6 + (k15 + k16) * x15, # x3\n",
    "    -k3 * x2 * x4 - k9 * x4 * x10 + k4 * x14 + k8 * x16 + (k10 + k11) * x18, # x4\n",
    "    -k28 * x5 + k29 * x7 - k6 * x5 * x8 + k5 * x14 + k7 * x16, # x5\n",
    "    -k14 * x3 * x6 - k20 * x6 * x11 + k15 * x15 + k19 * x17 + (k21 + k22) * x19, # x6\n",
    "    k28 * x5 - k29 * x7 - k17 * x7 * x9 + k16 * x15 + k18 * x17, # x7\n",
    "    -k6 * x5 * x8 + (k7 + k8) * x16, # x8\n",
    "    -k17 * x7 * x9 + (k18 + k19) * x17, # x9\n",
    "    k12 - (k13 + k30) * x10 - k9 * x4 * x10 + k31 * x11 + k10 * x18, # x10\n",
    "    -k23 * x11 + k30 * x10 - k31 * x11 - k20 * x6 * x11 - k24 * x11 * x12 + k25 * x13 + k21 * x19, # x11\n",
    "    -k24 * x11 * x12 + k25 * x13, # x12\n",
    "    -k24 * x11 * x12 + k25 * x13, # x13\n",
    "    k3 * x2 * x4 - (k4 + k5) * x14, # x14\n",
    "    k14 * x3 * x6 - (k15 + k16) * x15, # x15\n",
    "    -k6 * x5 * x8 + (k7 + k8) * x16, # x16\n",
    "    -k17 * x7 * x9 + (k18 + k19) * x17, # x17\n",
    "    k9 * x4 * x10 - (k10 + k11) * x18, # x18\n",
    "    k20 * x6 * x11 - (k21 + k22) * x19]; # x19\n",
    "\n",
    "conservationLaws = [\n",
    "    (x1 + x2 + x3 + x14 + x15) - c1,\n",
    "    (x4 + x5 + x6 + x7 + x14 + x15 + x16 + x17 + x18 + x19) - c2,\n",
    "    (x8 + x16) - c3,\n",
    "    (x9 + x17) - c4,\n",
    "    (x12 + x13) - c5];\n",
    "\n",
    "system = vcat([steadyStateEq for (i, steadyStateEq) in enumerate(steadyStateEqs) if i ∉ [3, 4, 8, 9, 12]],\n",
    "    conservationLaws)\n"
   ]
  },
  {
   "cell_type": "code",
   "execution_count": 73,
   "metadata": {},
   "outputs": [
    {
     "data": {
      "text/plain": [
       "19-element Vector{QQMPolyRingElem}:\n",
       " 22*x1 - 35*x2\n",
       " -22*x1 - 80*x2*x4 - 31*x2 + 58*x3 - 56*x14\n",
       " 51*x5*x8 - 10*x5 + 76*x7 - 4*x14 - 89*x16\n",
       " 94*x3*x6 - 37*x6*x11 + 6*x15 - 70*x17 - 24*x19\n",
       " 10*x5 - 15*x7*x9 - 76*x7 + 36*x15 + 23*x17\n",
       " 40*x4*x10 + 150*x10 + 35*x11 + 17*x18 + 68\n",
       " -37*x6*x11 - 54*x10 + 53*x11*x12 - 62*x11 - 5*x13 + 22*x19\n",
       " 53*x11*x12 - 5*x13\n",
       " 80*x2*x4 + 56*x14\n",
       " -94*x3*x6 - 42*x15\n",
       " 51*x5*x8 - 125*x16\n",
       " -15*x7*x9 - 47*x17\n",
       " -40*x4*x10 - 13*x18\n",
       " 37*x6*x11 + 24*x19\n",
       " x1 + x2 + x3 + x14 + x15 + 52\n",
       " x4 + x5 + x6 + x7 + x14 + x15 + x16 + x17 + x18 + x19 + 15\n",
       " x8 + x16 + 77\n",
       " x9 + x17 + 98\n",
       " x12 + x13 + 86"
      ]
     },
     "metadata": {},
     "output_type": "display_data"
    }
   ],
   "source": [
    "# Make a choice of parameters\n",
    "number_of_parameters = ngens(coefficient_ring(parent(first(system))))\n",
    "#target_parameters = collect(1:number_of_parameters)\n",
    "target_parameters = rand(-100:100, number_of_parameters)\n",
    "target_system = specialize(system, target_parameters)"
   ]
  },
  {
   "cell_type": "markdown",
   "metadata": {},
   "source": [
    "## Embedding in vertical family"
   ]
  },
  {
   "cell_type": "code",
   "execution_count": 74,
   "metadata": {},
   "outputs": [
    {
     "data": {
      "text/plain": [
       "(AbstractAlgebra.Generic.MPoly{QQMPolyRingElem}[22*a[1]*x1 - 35*a[2]*x2, -22*a[1]*x1 - 80*a[3]*x2*x4 - 31*a[2]*x2 + 58*a[4]*x3 - 56*a[5]*x14, 51*a[6]*x5*x8 - 10*a[7]*x5 + 76*a[8]*x7 - 4*a[5]*x14 - 89*a[9]*x16, 94*a[10]*x3*x6 - 37*a[11]*x6*x11 + 6*a[12]*x15 - 70*a[13]*x17 - 24*a[14]*x19, 10*a[7]*x5 - 15*a[15]*x7*x9 - 76*a[8]*x7 + 36*a[12]*x15 + 23*a[13]*x17, 40*a[16]*x4*x10 + 150*a[17]*x10 + 35*a[18]*x11 + 17*a[19]*x18 + 68*a[20], -37*a[11]*x6*x11 - 54*a[17]*x10 + 53*a[21]*x11*x12 - 62*a[18]*x11 - 5*a[22]*x13 + 22*a[14]*x19, 53*a[21]*x11*x12 - 5*a[22]*x13, 80*a[3]*x2*x4 + 56*a[5]*x14, -94*a[10]*x3*x6 - 42*a[12]*x15, 51*a[6]*x5*x8 - 125*a[9]*x16, -15*a[15]*x7*x9 - 47*a[13]*x17, -40*a[16]*x4*x10 - 13*a[19]*x18, 37*a[11]*x6*x11 + 24*a[14]*x19, a[1]*x1 + a[2]*x2 + a[4]*x3 + a[5]*x14 + a[12]*x15 + 52*a[20], a[23]*x4 + a[7]*x5 + a[24]*x6 + a[8]*x7 + a[5]*x14 + a[12]*x15 + a[9]*x16 + a[13]*x17 + a[19]*x18 + a[14]*x19 + 15*a[20], a[25]*x8 + a[9]*x16 + 77*a[20], a[26]*x9 + a[13]*x17 + 98*a[20], a[27]*x12 + a[22]*x13 + 86*a[20]], QQFieldElem[1, 1, 1, 1, 1, 1, 1, 1, 1, 1  …  1, 1, 1, 1, 1, 1, 1, 1, 1, 1])"
      ]
     },
     "metadata": {},
     "output_type": "display_data"
    }
   ],
   "source": [
    "F, target_parameters = vertical_embedding(target_system)"
   ]
  },
  {
   "cell_type": "markdown",
   "metadata": {},
   "source": [
    "## Pertubation of parameters\n",
    "This need to be repeated until a transversal intersection is found in next step."
   ]
  },
  {
   "cell_type": "code",
   "execution_count": 75,
   "metadata": {},
   "outputs": [],
   "source": [
    "m = length(target_parameters)\n",
    "Kt, t = rational_function_field(QQ, \"t\")\n",
    "\n",
    "v = [-2, 5, -51, -98, -81, 73, 88, 94, 60, 30, 31, -95, 26, 91, -13, -31, -83, 42, 70, -19, 5, 54, 23, -92, 31, -26, -19]\n",
    "#v = rand(-100:100, m)\n",
    "\n",
    "perturbed_parameters = (t .^ v) .* target_parameters;"
   ]
  },
  {
   "cell_type": "code",
   "execution_count": 76,
   "metadata": {},
   "outputs": [
    {
     "data": {
      "text/plain": [
       "19-element Vector{AbstractAlgebra.Generic.MPoly{QQMPolyRingElem}}:\n",
       " 22*y[1] - 35*y[2]\n",
       " -22*y[1] - 31*y[2] - 80*y[3] + 58*y[4] - 56*y[5]\n",
       " -4*y[5] + 51*y[6] - 10*y[7] + 76*y[8] - 89*y[9]\n",
       " 94*y[10] - 37*y[11] + 6*y[12] - 70*y[13] - 24*y[14]\n",
       " 10*y[7] - 76*y[8] + 36*y[12] + 23*y[13] - 15*y[15]\n",
       " 40*y[16] + 150*y[17] + 35*y[18] + 17*y[19] + 68*y[20]\n",
       " -37*y[11] + 22*y[14] - 54*y[17] - 62*y[18] + 53*y[21] - 5*y[22]\n",
       " 53*y[21] - 5*y[22]\n",
       " 80*y[3] + 56*y[5]\n",
       " -94*y[10] - 42*y[12]\n",
       " 51*y[6] - 125*y[9]\n",
       " -47*y[13] - 15*y[15]\n",
       " -40*y[16] - 13*y[19]\n",
       " 37*y[11] + 24*y[14]\n",
       " y[1] + y[2] + y[4] + y[5] + y[12] + 52*y[20]\n",
       " y[5] + y[7] + y[8] + y[9] + y[12] + y[13] + y[14] + y[19] + 15*y[20] + y[23] + y[24]\n",
       " y[9] + 77*y[20] + y[25]\n",
       " y[13] + 98*y[20] + y[26]\n",
       " 86*y[20] + y[22] + y[27]"
      ]
     },
     "metadata": {},
     "output_type": "display_data"
    },
    {
     "data": {
      "text/plain": [
       "27-element Vector{AbstractAlgebra.Generic.MPoly{QQMPolyRingElem}}:\n",
       " -a[1]*x1 + y[1]\n",
       " -a[2]*x2 + y[2]\n",
       " -a[3]*x2*x4 + y[3]\n",
       " -a[4]*x3 + y[4]\n",
       " -a[5]*x14 + y[5]\n",
       " -a[6]*x5*x8 + y[6]\n",
       " -a[7]*x5 + y[7]\n",
       " -a[8]*x7 + y[8]\n",
       " -a[9]*x16 + y[9]\n",
       " -a[10]*x3*x6 + y[10]\n",
       " ⋮\n",
       " -a[19]*x18 + y[19]\n",
       " y[20] - a[20]\n",
       " -a[21]*x11*x12 + y[21]\n",
       " -a[22]*x13 + y[22]\n",
       " -a[23]*x4 + y[23]\n",
       " -a[24]*x6 + y[24]\n",
       " -a[25]*x8 + y[25]\n",
       " -a[26]*x9 + y[26]\n",
       " -a[27]*x12 + y[27]"
      ]
     },
     "metadata": {},
     "output_type": "display_data"
    }
   ],
   "source": [
    "linear_part, binomial_part = modify_vertically(F)\n",
    "display(linear_part)\n",
    "display(binomial_part)"
   ]
  },
  {
   "cell_type": "markdown",
   "metadata": {},
   "source": [
    "## Tropicalizations"
   ]
  },
  {
   "cell_type": "code",
   "execution_count": 77,
   "metadata": {},
   "outputs": [],
   "source": [
    "Kaxy = parent(first(binomial_part));\n",
    "Ka = coefficient_ring(Kaxy);\n",
    "K = base_ring(Ka);\n",
    "Kx, x = polynomial_ring(K, symbols(parent(first(F))));"
   ]
  },
  {
   "cell_type": "code",
   "execution_count": 78,
   "metadata": {},
   "outputs": [
    {
     "name": "stdout",
     "output_type": "stream",
     "text": [
      " 68.087301 seconds (711.60 M allocations: 5.305 GiB, 0.09% gc time)\n"
     ]
    },
    {
     "data": {
      "text/plain": [
       "Min tropical linear space"
      ]
     },
     "metadata": {},
     "output_type": "display_data"
    }
   ],
   "source": [
    "# Tropicalize the linear part over QQ\n",
    "linear_part_specialized = specialize(linear_part, K.(ones(Int, ngens(Ka))))\n",
    "nu_K = tropical_semiring_map(K)\n",
    "@time TropL = tropical_linear_space(ideal(linear_part_specialized), nu_K)"
   ]
  },
  {
   "cell_type": "code",
   "execution_count": 79,
   "metadata": {},
   "outputs": [
    {
     "data": {
      "text/plain": [
       "78983"
      ]
     },
     "metadata": {},
     "output_type": "display_data"
    }
   ],
   "source": [
    "length(maximal_polyhedra(TropL))"
   ]
  },
  {
   "cell_type": "code",
   "execution_count": 80,
   "metadata": {},
   "outputs": [
    {
     "data": {
      "text/plain": [
       "20-element SubObjectIterator{RayVector{QQFieldElem}}:\n",
       " [1, 0, 0, 0, 0, 0, 0, 0, 0, 0  …  0, 0, 0, 0, 0, 0, 0, 0, 0, 0]\n",
       " [0, 1, 0, 0, 0, 0, 0, 0, 0, 0  …  0, 0, 0, 0, 0, 0, 0, 0, 0, 0]\n",
       " [0, 0, 1, 0, 0, 0, 0, 0, 0, 0  …  0, 0, 0, 0, 0, 0, 0, 0, 0, 0]\n",
       " [0, 0, 0, 1, 0, 0, 0, 0, 0, 0  …  0, 0, 0, 0, 0, 0, 0, 0, 0, 0]\n",
       " [0, 0, 0, 0, 1, 0, 0, 0, 0, 0  …  0, 0, 0, 0, 0, 0, 0, 0, 0, 0]\n",
       " [0, 0, 0, 0, 0, 1, 0, 0, 0, 0  …  0, 0, 0, 0, 0, 0, 0, 0, 0, 0]\n",
       " [0, 0, 0, 0, 0, 0, 1, 0, 0, 0  …  0, 0, 0, 0, 0, 0, 0, 0, 0, 0]\n",
       " [0, 0, 0, 0, 0, 0, 0, 1, 0, 0  …  0, 0, 0, 0, 0, 0, 0, 0, 0, 0]\n",
       " [0, 0, 0, 0, 0, 0, 0, 0, 1, 0  …  0, 0, 0, 0, 0, 0, 0, 0, 0, 0]\n",
       " [0, 0, 0, 0, 0, 0, 0, 0, 0, 1  …  0, 0, 0, 0, 0, 0, 0, 0, 0, 0]\n",
       " [0, 0, 0, 0, 0, 0, 0, 0, 0, 0  …  0, 0, 0, 0, 0, 0, 0, 0, 0, 0]\n",
       " [0, 0, 0, 0, 0, 0, 0, 0, 0, 0  …  0, 0, 0, 0, 0, 0, 0, 0, 0, 0]\n",
       " [0, 0, 0, 0, 0, 0, 0, 0, 0, 0  …  0, 0, 0, 0, 0, 0, 0, 0, 0, 0]\n",
       " [0, 0, 0, 0, 0, 0, 0, 0, 0, 0  …  0, 0, 0, 0, 0, 0, 0, 0, 0, 0]\n",
       " [0, 0, 0, 0, 0, 0, 0, 0, 0, 0  …  0, 0, 0, 0, 0, 0, 0, 0, 0, 0]\n",
       " [0, 0, 0, 0, 0, 0, 0, 0, 0, 0  …  0, 0, 0, 0, 0, 0, 0, 0, 0, 0]\n",
       " [0, 0, 0, 0, 0, 0, 0, 0, 0, 0  …  0, 0, 0, 0, 0, 0, 0, 0, 0, 0]\n",
       " [0, 0, 0, 0, 0, 0, 0, 0, 0, 0  …  0, 0, 0, 0, 0, 0, 0, 0, 0, 0]\n",
       " [0, 0, 0, 0, 0, 0, 0, 0, 0, 0  …  0, 0, 0, 0, 0, 0, 0, 0, 0, 0]\n",
       " [1, 1, 1, 1, 1, 1, 1, 1, 1, 1  …  1, 1, 1, 1, 1, 1, 1, 1, 1, 1]"
      ]
     },
     "metadata": {},
     "output_type": "display_data"
    }
   ],
   "source": [
    "lineality_space(TropL)"
   ]
  },
  {
   "cell_type": "code",
   "execution_count": 81,
   "metadata": {},
   "outputs": [
    {
     "name": "stdout",
     "output_type": "stream",
     "text": [
      "  0.004412 seconds (15.38 k allocations: 1.823 MiB)\n"
     ]
    },
    {
     "data": {
      "text/plain": [
       "Min tropical variety"
      ]
     },
     "metadata": {},
     "output_type": "display_data"
    }
   ],
   "source": [
    "Ktx, x = polynomial_ring(Kt, symbols(Kx))\n",
    "Ktxy, xy = polynomial_ring(Kt, symbols(Kaxy))\n",
    "\n",
    "binomial_part_specialized =\n",
    "    hom(Kaxy, Ktxy, hom(Ka, Kt, perturbed_parameters), gens(Ktxy)).(binomial_part)\n",
    "\n",
    "# Tropicalize the binomial part over QQt\n",
    "nu = tropical_semiring_map(Kt, t)\n",
    "@time TropB = Oscar.tropical_variety_binomial(ideal(binomial_part_specialized), nu)"
   ]
  },
  {
   "cell_type": "markdown",
   "metadata": {},
   "source": [
    "## Computation of tropical intersection points"
   ]
  },
  {
   "cell_type": "code",
   "execution_count": 85,
   "metadata": {},
   "outputs": [
    {
     "data": {
      "text/plain": [
       "8-element Vector{Vector{QQFieldElem}}:\n",
       " [-17, -24, 79, 230, 132, 11, 126, -50, 7, 2, -123, 99, -73, 236, 215, 95, 94, 131, -172]\n",
       " [-17, -24, 79, 292, 194, 73, 188, -50, 7, 64, -61, 37, -73, 298, 277, 157, 156, 255, -48]\n",
       " [126, 119, 222, -52, -7, -271, -13, -50, 7, -280, -123, 99, -73, 97, 76, -44, -45, -433, -454]\n",
       " [-218, -225, -122, 292, -7, -128, -13, -50, -194, 64, 78, 0, 29, 97, -125, -44, -246, 255, -110]\n",
       " [91, 84, 187, -52, -42, -236, -48, -50, 42, -245, -123, 99, -73, 62, 76, -79, -45, -398, -419]\n",
       " [-235//2, -249//2, -43//2, 56, -42, -55//2, -48, -301//2, 42, 64, -45//2, 0, -143//2, -77//2, 76, -359//2, -45, 19, -110]\n",
       " [-156, -163, -60, 56, -42, 11, -48, -189, 42, -75, -200, 176, -73, -77, 76, -218, -45, -120, -249]\n",
       " [-17, -24, 79, 56, -308, -128, -314, 216, 308, 64, 78, 0, 29, 62, 76, -79, -45, 19, -110]"
      ]
     },
     "metadata": {},
     "output_type": "display_data"
    },
    {
     "data": {
      "text/plain": [
       "8-element Vector{Int64}:\n",
       " 1\n",
       " 1\n",
       " 1\n",
       " 1\n",
       " 1\n",
       " 2\n",
       " 1\n",
       " 1"
      ]
     },
     "metadata": {},
     "output_type": "display_data"
    },
    {
     "data": {
      "text/plain": [
       "9"
      ]
     },
     "metadata": {},
     "output_type": "display_data"
    },
    {
     "name": "stdout",
     "output_type": "stream",
     "text": [
      " 25.968961 seconds (94.13 M allocations: 14.966 GiB, 8.57% gc time, 0.31% compilation time)\n"
     ]
    }
   ],
   "source": [
    "@time pts, mults = tropical_stable_intersection_linear_binomial(TropL, TropB)\n",
    "projected_pts = [w[1:ngens(Kx)] for w in pts]\n",
    "grc = sum(mults)\n",
    "\n",
    "display(projected_pts)\n",
    "display(mults)\n",
    "display(grc)"
   ]
  },
  {
   "cell_type": "markdown",
   "metadata": {},
   "source": [
    "## Computation of initials and homotopies for a given point"
   ]
  },
  {
   "cell_type": "code",
   "execution_count": 86,
   "metadata": {},
   "outputs": [],
   "source": [
    "# Substitution homomorphism Kxy -> Kx with y -> target_parametrs.*monomial_vector\n",
    "Kxy, xy = polynomial_ring(K, symbols(Kaxy))\n",
    "target_parameters = (c -> evaluate(c, QQ(1))).(perturbed_parameters)\n",
    "monomial_vector = -hom(Kaxy, Kx, hom(Ka, K, ones(Int, m)), vcat(gens(Kx), zeros(Kx, m))).(binomial_part)\n",
    "target_monomial_vector = target_parameters .* monomial_vector\n",
    "substitute_y_by_monomials = hom(Kxy, Kx, vcat(gens(Kx), target_monomial_vector))\n",
    "\n",
    "# Substitution homomorphism Kxy -> Ktx with y -> perturbed_parameters.*monomial_vector\n",
    "perturbed_monomial_vector = perturbed_parameters .* hom(Kx, Ktx, gens(Ktx)).(monomial_vector)\n",
    "substitute_y_by_perturbed_monomials = hom(Kxy, Ktx, vcat(gens(Ktx), perturbed_monomial_vector));\n"
   ]
  },
  {
   "cell_type": "code",
   "execution_count": 87,
   "metadata": {},
   "outputs": [
    {
     "data": {
      "text/plain": [
       "19-element Vector{AbstractAlgebra.Generic.MPoly{AbstractAlgebra.Generic.RationalFunctionFieldElem{QQFieldElem, QQPolyRingElem}}}:\n",
       " -24//37*t^23*x4 + t^31*x6*x11 - 24//37//t^92*x6 - 19360//85211//t^13*x7*x9 - 1032//185*t^94*x7 + 180//1813//t^26*x9 - 240//37*t^60*x16 - 24//37*t^70*x18\n",
       " t^23*x4 + 1//t^92*x6 + 2420//6909//t^13*x7*x9 + 43//5*t^94*x7 - 15//98//t^26*x9 + 10*t^60*x16 + t^70*x18 + t^91*x19\n",
       " -161//741*t^23*x4 - 161//741//t^92*x6 - 380134//5119569//t^13*x7*x9 - 6923//3705*t^94*x7 + 9967//363090//t^26*x9 + 1//t^83*x10 - 1610//741*t^60*x16 - 227//1235*t^70*x18\n",
       " 230//247*t^23*x4 + 230//247//t^92*x6 + 553846//1706523//t^13*x7*x9 + 1978//247*t^94*x7 - 8319//60515//t^26*x9 + t^42*x11 + 2300//247*t^60*x16 + 1114//1235*t^70*x18\n",
       " 1//t^2*x1 + 1582675//4696146//t^13*x7*x9 - 290//1281//t^26*x9 + 3045//793*t^60*x16\n",
       " t^5*x2 + 3481885//16436511//t^13*x7*x9 - 1276//8967//t^26*x9 + 1914//793*t^60*x16\n",
       " 1//t^98*x3 + 1320715//5478837//t^13*x7*x9 - 484//2989//t^26*x9 + 2178//793*t^60*x16\n",
       " -15//4606//t^13*x7*x9 + 1//98//t^26*x9 + 1//t^19\n",
       " 3225//122059//t^13*x7*x9 - 215//2597//t^26*x9 + t^5*x11*x12 + 5//53//t^19*x12\n",
       " 645//2303//t^13*x7*x9 - 43//49//t^26*x9 + 1//t^19*x12 + t^54*x13\n",
       " 165//658//t^13*x7*x9 + t^31*x8 - 11//14//t^26*x9 + t^60*x16\n",
       " t^30*x3*x6 + 1225//4418//t^13*x7*x9\n",
       " -175//282//t^13*x7*x9 + 1//t^95*x15\n",
       " 15//47//t^13*x7*x9 + t^26*x17\n",
       " 1//t^51*x2*x4 + 63//10*t^60*x16\n",
       " 1//t^81*x14 - 9*t^60*x16\n",
       " t^73*x5*x8 - 125//51*t^60*x16\n",
       " 1//t^31*x4*x10 + 13//40*t^70*x18\n",
       " t^88*x5 - 38//5*t^94*x7"
      ]
     },
     "metadata": {},
     "output_type": "display_data"
    }
   ],
   "source": [
    "# Choice of point\n",
    "w = pts[1]\n",
    "\n",
    "# Compute the tropical Gröbner basis and initial for the linear part\n",
    "G_linear = groebner_basis(ideal(linear_part_specialized), nu_K, w)\n",
    "initials_linear = initial.(G_linear, Ref(nu_K), Ref(w))\n",
    "\n",
    "# Substitute the y variables by the monomials\n",
    "initials = substitute_y_by_monomials.(initials_linear)\n",
    "\n",
    "# Tropical Gröbner basis\n",
    "G = substitute_y_by_perturbed_monomials.(G_linear)"
   ]
  },
  {
   "cell_type": "code",
   "execution_count": 88,
   "metadata": {},
   "outputs": [
    {
     "data": {
      "text/plain": [
       "19-element Vector{AbstractAlgebra.Generic.MPoly{AbstractAlgebra.Generic.RationalFunctionFieldElem{QQFieldElem, QQPolyRingElem}}}:\n",
       " -24//37*t^334*x4 + x6*x11 - 24//37*x6 - 19360//85211*t^201*x7*x9 - 1032//185*t^301*x7 + 180//1813*t^62*x9 - 240//37*t^236*x16 - 24//37*t^282*x18\n",
       " t^334*x4 + x6 + 2420//6909*t^201*x7*x9 + 43//5*t^301*x7 - 15//98*t^62*x9 + 10*t^236*x16 + t^282*x18 + x19\n",
       " -161//741*t^334*x4 - 161//741*x6 - 380134//5119569*t^201*x7*x9 - 6923//3705*t^301*x7 + 9967//363090*t^62*x9 + x10 - 1610//741*t^236*x16 - 227//1235*t^282*x18\n",
       " 230//247*t^334*x4 + 230//247*x6 + 553846//1706523*t^201*x7*x9 + 1978//247*t^301*x7 - 8319//60515*t^62*x9 + x11 + 2300//247*t^236*x16 + 1114//1235*t^282*x18\n",
       " x1 + 1582675//4696146*t^139*x7*x9 - 290//1281*x9 + 3045//793*t^174*x16\n",
       " x2 + 3481885//16436511*t^139*x7*x9 - 1276//8967*x9 + 1914//793*t^174*x16\n",
       " x3 + 1320715//5478837*t^139*x7*x9 - 484//2989*x9 + 2178//793*t^174*x16\n",
       " -15//4606*t^139*x7*x9 + 1//98*x9 + 1\n",
       " 3225//122059*t^139*x7*x9 - 215//2597*x9 + x11*x12 + 5//53*t^99*x12\n",
       " 645//2303*t^139*x7*x9 - 43//49*x9 + t^99*x12 + x13\n",
       " 165//658*t^139*x7*x9 + x8 - 11//14*x9 + t^174*x16\n",
       " x3*x6 + 1225//4418*x7*x9\n",
       " -175//282*x7*x9 + x15\n",
       " 15//47*x7*x9 + x17\n",
       " x2*x4 + 63//10*x16\n",
       " x14 - 9*x16\n",
       " x5*x8 - 125//51*x16\n",
       " x4*x10 + 13//40*x18\n",
       " x5 - 38//5*x7"
      ]
     },
     "metadata": {},
     "output_type": "display_data"
    }
   ],
   "source": [
    "# Homotopy in OSCAR format\n",
    "projected_point = w[1:ngens(Kx)]\n",
    "H = homotopy_from_tropical_data(G,projected_point)"
   ]
  },
  {
   "cell_type": "markdown",
   "metadata": {},
   "source": [
    "## Solve start system and trace along homotopy"
   ]
  },
  {
   "cell_type": "code",
   "execution_count": 264,
   "metadata": {},
   "outputs": [
    {
     "data": {
      "text/plain": [
       "1-element Vector{Vector{ComplexF64}}:\n",
       " [-22.185792349726785 + 0.0im, -13.945355191256835 + 0.0im, -15.8688524590164 + 0.0im, -43.879649916998645 + 0.0im, 3.091728124383842 + 0.0im, -0.6965922444183315 + 0.0im, 0.4068063321557688 + 0.0im, -77.00000000000003 + 0.0im, -98.00000000000004 + 0.0im, -0.15135135135135136 + 0.0im, 0.6486486486486487 + 0.0im, -12.50786163522013 + 0.0im, -86.00000000000003 + 0.0im, -874.1675768007855 + 0.0im, -24.740172327912898 + 0.0im, -97.12973075564281 + 0.0im, 12.723517197212347 + 0.0im, -20.434597882344484 + 0.0im, 0.6965922444183315 + 0.0im]"
      ]
     },
     "metadata": {},
     "output_type": "display_data"
    }
   ],
   "source": [
    "# Solve start system\n",
    "S_HC = HC_system_from_Oscar_system(initials)\n",
    "start_solutions = solve_binomial_system(S_HC)"
   ]
  },
  {
   "cell_type": "code",
   "execution_count": 274,
   "metadata": {},
   "outputs": [
    {
     "data": {
      "text/plain": [
       "Vector{ComplexF64}[]"
      ]
     },
     "metadata": {},
     "output_type": "display_data"
    }
   ],
   "source": [
    "# Homotopy in HC format\n",
    "H_HC = export_homotopy_from_oscar_to_HC(H)\n",
    "trace_solutions_along_homotopy(H_HC, start_solutions)"
   ]
  },
  {
   "cell_type": "code",
   "execution_count": 388,
   "metadata": {},
   "outputs": [
    {
     "data": {
      "text/plain": [
       "1-element Vector{Vector{ComplexF64}}:\n",
       " [-17.092259051808238 + 2.6815964878133434e-38im, -10.743705689708033 + 1.6897731293070383e-38im, -12.225596129667762 + 1.9101783200862172e-38im, -0.756042515569837 - 1.3775324423698682e-40im, 0.041739039015892286 + 1.2914366647217514e-41im, -0.012228048231929418 - 5.739718509874451e-42im, 0.005491978817880564 + 2.3317606446364956e-42im, -75.71068281330336 + 1.1093727935885338e-37im, -98.17207200210949 + 1.4324615485093667e-37im, -0.5296409988530135 + 3.6734198463196485e-40im, 0.4678437931051801 + 2.2499696558707847e-39im, -14.43160242710804 + 9.4039548065783e-38im, -71.56839757289197 + 4.70197740328915e-38im, -11.603854680269762 + 1.3224311446750734e-38im, -0.33458444854620706 + 3.3290367357271814e-40im, -1.2893171866966402 + 1.4693679385278594e-39im, 0.17207200210947796 - 1.7793127380610797e-40im, -1.2320957326823185 + 2.204051907791789e-39im, 0.008819592053444214 - 2.2958874039497803e-41im]"
      ]
     },
     "metadata": {},
     "output_type": "display_data"
    }
   ],
   "source": [
    "# Choice of point\n",
    "w = pts[2]\n",
    "\n",
    "# Compute the tropical Gröbner basis and initial for the linear part\n",
    "G_linear = groebner_basis(ideal(linear_part_specialized), nu_K, w)\n",
    "initials_linear = initial.(G_linear, Ref(nu_K), Ref(w))\n",
    "\n",
    "# Substitute the y variables by the monomials\n",
    "initials = substitute_y_by_monomials.(initials_linear)\n",
    "\n",
    "# Tropical Gröbner basis\n",
    "G = substitute_y_by_perturbed_monomials.(G_linear)\n",
    "\n",
    "# Homotopy in OSCAR format\n",
    "projected_point = w[1:ngens(Kx)]\n",
    "H = homotopy_from_tropical_data(G,projected_point)\n",
    "## Solve start system and trace along homotopy\n",
    "# Solve start system\n",
    "S_HC = HC_system_from_Oscar_system(initials)\n",
    "start_solutions = solve_binomial_system(S_HC)\n",
    "\n",
    "# Homotopy in HC format\n",
    "H_HC = export_homotopy_from_oscar_to_HC(H)\n",
    "trace_solutions_along_homotopy(H_HC, start_solutions)\n",
    "\n",
    "H_tracker = HC.Tracker(H_HC, options=HC.TrackerOptions(automatic_differentiation = 3))\n",
    "t1 = exp(2 * pi * im * rand())\n",
    "res1 = HC.track.(H_tracker, start_solutions, 0, t1)\n",
    "sol1 = [HC.solution(r) for r in res1 if r.return_code == :success]\n",
    "res = HC.track.(H_tracker, sol1, t1, 1)\n",
    "new_solutions = [HC.solution(r) for r in res if r.return_code == :success]\n"
   ]
  },
  {
   "cell_type": "code",
   "execution_count": 380,
   "metadata": {},
   "outputs": [
    {
     "data": {
      "text/plain": [
       "1-element Vector{HomotopyContinuation.PathResult}:\n",
       " PathResult:\n",
       " • return_code → :terminated_step_size_too_small\n",
       " • solution → ComplexF64[-22.159763299277312 + 0.0im, -13.928994073831452 + 0.0im, -15.85023463573924 + 0.0im, -1118.8303061627357 + 0.0im, 78.74528424792447 + 0.0im, -17.76373673417427 + 0.0im, 10.361221611569011 + 0.0im, -76.9943235604412 + 0.0im, -98.00510173234885 + 0.0im, -1.1828349955259818 + 0.0im, 3.126438499562438 + 0.0im, -2.584846973198264 + 0.0im, -85.66246998033557 + 0.0im, -22263.11529166254 + 0.0im, -630.1567417369349 + 0.0im, -2473.6794768513932 + 0.0im, 324.08061003613795 + 0.0im, -4071.974277490254 + 0.0im, 85.61989690029652 + 0.0im]\n",
       " • accuracy → 8.4186e-17\n",
       " • residual → 1.819e-12\n",
       " • condition_jacobian → NaN\n",
       " • steps → 180 / 8\n",
       " • extended_precision → true\n",
       " • path_number → 1\n"
      ]
     },
     "metadata": {},
     "output_type": "display_data"
    }
   ],
   "source": [
    "H_HC_rev = HC.Homotopy(HC.subs(H_HC.expressions,H_HC.t=>(1-H_HC.t)),H_HC.variables,H_HC.t)\n",
    "R = HC.solve(H_HC_rev, start_solutions)\n",
    "HC.path_results(R)"
   ]
  },
  {
   "cell_type": "code",
   "execution_count": 223,
   "metadata": {},
   "outputs": [
    {
     "data": {
      "text/plain": [
       "1-element Vector{Vector{ComplexF64}}:\n",
       " [-1.0896563319326527 + 5.739718509874451e-42im, -0.6849268372148086 + 5.739718509874451e-42im, -0.7793995044168528 + 4.304788882405838e-42im, -49.031791357898825 + 0.0im, 0.1823004986476822 + 7.847271400218976e-44im, -0.8427292721646906 - 1.2555634240350361e-42im, 0.02398690771680029 - 1.961817850054744e-44im, -71.66933495591397 + 5.3809861030072976e-42im, -98.7560164209687 + 5.919084713308027e-42im, 0.7421842932559136 - 2.5111268480700722e-42im, -17.920350414097573 + 5.739718509874451e-42im, 0.45513309972068683 + 6.887662211849341e-41im, -86.45513309972068 - 6.887662211849341e-41im, -47.975985396774334 - 1.1479437019748901e-41im, -1.4700319296613593 + 1.1658803223182478e-42im, -5.330665044086037 - 1.4349296274686127e-42im, 0.7560164209686991 - 6.2778171201751805e-43im, 111.97115512625707 + 1.1479437019748901e-41im, -23.28225595300503 + 1.6501690715889046e-41im]"
      ]
     },
     "metadata": {},
     "output_type": "display_data"
    },
    {
     "data": {
      "text/plain": [
       "Vector{ComplexF64}[]"
      ]
     },
     "metadata": {},
     "output_type": "display_data"
    },
    {
     "data": {
      "text/plain": [
       "Vector{ComplexF64}[]"
      ]
     },
     "metadata": {},
     "output_type": "display_data"
    },
    {
     "data": {
      "text/plain": [
       "1-element Vector{Vector{ComplexF64}}:\n",
       " [0.9232168879454783 + 3.982729777831131e-59im, 0.5803077581371578 + 0.0im, 0.6603502075353864 + 3.982729777831131e-59im, 63.37815861730117 + 0.0im, 0.20107060774666768 + 0.0im, 1.0979428044911188 + 0.0im, 0.026456658914035223 + 7.778769097326427e-62im, -71.16208934252901 + 0.0im, -98.83452059585213 - 1.3065063810346254e-60im, 0.10566354213460045 + 0.0im, -0.04079602155352987 + 7.965459555662261e-59im, -151.52525011977968 + 8.156630584998156e-56im, 65.52525011977968 - 8.156630584998156e-56im, -52.541195917238895 + 0.0im, -1.622678936379126 - 4.9784122222889134e-60im, -5.837910657470989 + 0.0im, 0.8345205958521219 + 1.2446030555722283e-60im, -20.60541764145413 - 6.372367644529809e-58im, 0.0690538682380342 + 7.965459555662261e-59im]"
      ]
     },
     "metadata": {},
     "output_type": "display_data"
    },
    {
     "data": {
      "text/plain": [
       "Vector{ComplexF64}[]"
      ]
     },
     "metadata": {},
     "output_type": "display_data"
    },
    {
     "data": {
      "text/plain": [
       "1-element Vector{Vector{ComplexF64}}:\n",
       " [-17.092259051808234 + 5.345529420184391e-51im, -10.743705689708033 + 4.0091470651382935e-51im, -12.225596129667762 + 4.0091470651382935e-51im, -0.7560425155698371 + 4.343242653899818e-51im, 0.041739039015892286 + 5.22024357439882e-53im, -0.012228048231929415 - 4.176194859519056e-52im, 0.005491978817880563 + 4.176194859519056e-53im, -75.71068281330336 + 1.3363823550460978e-51im, -98.17207200210947 - 1.3363823550460978e-51im, -0.5296409988530135 - 2.088097429759528e-52im, 0.46784379310518004 - 2.5057169157114334e-52im, -14.431602427108038 - 8.552847072295026e-50im, -71.56839757289197 + 8.552847072295026e-50im, -11.603854680269762 - 1.0691058840368783e-50im, -0.33458444854620706 - 2.6727647100921956e-51im, -1.2893171866966402 - 1.3363823550460978e-51im, 0.17207200210947793 + 1.3363823550460978e-51im, -1.2320957326823188 + 1.0022867662845734e-50im, 0.008819592053444212 - 6.681911775230489e-52im]"
      ]
     },
     "metadata": {},
     "output_type": "display_data"
    },
    {
     "data": {
      "text/plain": [
       "1-element Vector{Vector{ComplexF64}}:\n",
       " [193.3655687455588 - 1.4437395444637849e-58im, 121.54407178292267 - 9.21006261123449e-59im, 138.30877133918787 - 1.0454665666806718e-58im, 3.9955332989353614 + 2.4892061111444567e-60im, -2231.5503049537742 - 2.8548207047493545e-55im, -0.6090927575581168 - 1.2834969010588605e-60im, -293.6250401254966 - 3.6959732338272893e-56im, 0.08466445981862826 - 1.057912597236394e-59im, -1.0347363179265667 + 1.2694951166836729e-58im, -212.54003777129674 - 2.102881322694837e-56im, 610.3194416054448 + 6.6272623503110015e-56im, -0.013291324338790187 + 1.4779661284920212e-60im, -85.9867086756612 - 1.4779661284920212e-60im, -693.7619801383677 + 9.458983222348935e-59im, 188.54356827069833 + 2.4892061111444567e-58im, -77.08466445981863 + 1.057912597236394e-59im, -96.96526368207343 - 1.2694951166836729e-58im, 2612.9563023759865 + 2.6509049401244006e-55im, 573.1009421714684 + 6.117472938748617e-56im]"
      ]
     },
     "metadata": {},
     "output_type": "display_data"
    },
    {
     "data": {
      "text/plain": [
       "1-element Vector{Vector{ComplexF64}}:\n",
       " [187.74204612151252 - 1.3237225813397952e-40im, 118.00928613352215 + 1.2663253962410507e-40im, 134.28642904849073 - 3.4438311059246704e-41im, 4.094406120111476 - 5.605193857299268e-42im, 616.14192307363 + 4.408103815583578e-39im, -0.6595215506127177 - 4.035739577255473e-43im, 81.07130566758288 + 6.198895990664407e-40im, -0.3050883531620024 + 1.883345136052554e-42im, 3.939885237837108 - 3.1209719397442326e-41im, 2.7756703731732926 + 3.0994479953322034e-40im, -9.842201638581686 - 9.183549615799121e-40im, 0.8323063594768475 + 2.3877229001077715e-39im, -86.83230635947685 - 2.3877229001077715e-39im, -690.2542048215419 - 1.133594405700204e-39im, 198.21644351801658 - 8.112334789737482e-40im, -76.694911646838 - 1.3595958220265105e-40im, -101.93988523783712 + 8.107352395197662e-41im, -34.96837465640871 - 4.040761830951613e-39im, -10.007180466102321 - 8.724372135009165e-40im]"
      ]
     },
     "metadata": {},
     "output_type": "display_data"
    },
    {
     "data": {
      "text/plain": [
       "CertificationResult\n",
       "===================\n",
       "• 5 solution candidates given\n",
       "• 5 certified solution intervals (5 real, 0 complex)\n",
       "• 5 distinct certified solution intervals (5 real, 0 complex)"
      ]
     },
     "metadata": {},
     "output_type": "display_data"
    }
   ],
   "source": [
    "sols = Vector{ComplexF64}[]\n",
    "for w in pts\n",
    "    # Compute the tropical Gröbner basis and initial for the linear part\n",
    "    G_linear = groebner_basis(ideal(linear_part_specialized), nu_K, w)\n",
    "    initials_linear = initial.(G_linear, Ref(nu_K), Ref(w))\n",
    "\n",
    "    # Substitute the y variables by the monomials\n",
    "    initials = substitute_y_by_monomials.(initials_linear)\n",
    "\n",
    "    # Tropical Gröbner basis\n",
    "    G = substitute_y_by_perturbed_monomials.(G_linear)\n",
    "    # Homotopy in OSCAR format\n",
    "    projected_point = w[1:ngens(Kx)]\n",
    "    H = homotopy_from_tropical_data(G,projected_point)\n",
    "    ## Solve start system and trace along homotopy\n",
    "    # Solve start system\n",
    "    S_HC = HC_system_from_Oscar_system(initials)\n",
    "    start_solutions = solve_binomial_system(S_HC)\n",
    "    # Homotopy in HC format\n",
    "    H_HC = export_homotopy_from_oscar_to_HC(H)\n",
    "    new_sols = trace_solutions_along_homotopy(H_HC, start_solutions)\n",
    "    display(new_sols)\n",
    "    append!(sols, new_sols)\n",
    "end\n",
    "\n",
    "# Certification\n",
    "F_target_HC = HC_system_from_Oscar_system(target_system)\n",
    "HC.certify(F_target_HC, sols)"
   ]
  },
  {
   "cell_type": "code",
   "execution_count": 160,
   "metadata": {},
   "outputs": [
    {
     "data": {
      "text/plain": [
       "7-element Vector{Vector{ComplexF64}}:\n",
       " [187.74204612151252 - 1.8669045833583425e-60im, 118.00928613352215 - 7.46761833343337e-60im, 134.28642904849073 - 4.6672614583958563e-60im, 4.094406120111476 + 1.750223046898446e-61im, 616.1419230736299 - 8.363732533445374e-58im, -0.6595215506127177 - 4.861730685829017e-62im, 81.07130566758288 - 1.095250688903561e-58im, -0.30508835316200245 - 4.083853776096374e-61im, 3.939885237837107 + 5.600713750075028e-60im, 2.7756703731732943 - 6.471935888975587e-59im, -9.842201638581692 + 1.095250688903561e-58im, 0.832306359476847 + 0.0im, -86.83230635947685 + 0.0im, -690.254204821542 + 1.3573952074834615e-59im, 198.2164435180166 + 6.223015277861142e-61im, -76.694911646838 + 1.5119982432928243e-60im, -101.9398852378371 - 3.422658402823628e-60im, -34.968374656408734 + 7.965459555662261e-58im, -10.007180466102325 + 1.493523666686674e-58im]\n",
       " [0.9232168879454784 - 3.447274937030595e-38im, 0.5803077581371577 + 5.531653713891502e-40im, 0.6603502075353864 - 2.465783071842064e-38im, 63.37815861730117 - 3.03057137321371e-38im, 0.20107060774666768 - 3.4223071615126412e-40im, 1.097942804491126 + 4.1107863967720816e-38im, 0.026456658914035223 - 4.150085531944378e-41im, -71.16208934252901 - 1.5501831751468917e-37im, -98.83452059585214 - 2.0130340757831674e-37im, 0.10566354213460051 + 8.466084802064815e-41im, -0.04079602155352983 - 4.627648048586276e-41im, -151.52525011977954 + 2.539067797776141e-36im, 65.52525011977953 - 2.727146893907707e-36im, -52.541195917238895 - 2.497925495497361e-38im, -1.6226789363791314 - 7.89211295107737e-40im, -5.837910657470989 - 2.778023758779234e-39im, 0.8345205958521221 + 4.491329733976758e-40im, -20.605417641454146 - 1.2191162114973333e-38im, 0.0690538682380346 - 2.252839515125722e-40im]\n",
       " [-333.4759633980775 - 1.8055593228630336e-35im, -209.61346270736303 + 1.8055593228630336e-35im, -238.52566446010277 - 1.8055593228630336e-35im, -2.1259646689222698 + 1.128474576789396e-36im, 27.673042025066675 + 4.70197740328915e-37im, 2.559235858080802 + 9.4039548065783e-38im, 3.6411897401403523 + 2.350988701644575e-38im, -6.264949865665146 + 7.052966104933725e-38im, 604.6328500554865 + 2.407412430484045e-35im, -0.4037916698432154 - 2.256949153578792e-36im, 0.08954999557133715 - 1.410593220986745e-37im, -44.1199869031161 - 2.407412430484045e-35im, -41.8800130968839 + 2.407412430484045e-35im, -636.6154512090137 + 4.890056499420716e-36im, 1366.2305417745572 + 7.222237291452134e-35im, -70.73505013433486 + 5.4072740137825225e-37im, -702.6328500554865 - 2.407412430484045e-35im, -2.6413748421286214 - 1.8055593228630336e-35im, -0.35331848795892895 + 5.64237288394698e-37im]\n",
       " [10.528899380293181 - 9.723461371658034e-63im, 6.618165324755714 - 4.861730685829017e-63im, 7.531015714377192 + 0.0im, 7.8579879761007305 + 0.0im, 0.29431073520180767 + 1.5192908393215678e-64im, 0.14147390204302232 + 0.0im, 0.03872509673707995 + 1.8991135491519597e-65im, -68.7451645165433 + 0.0im, -99.22634569227671 + 4.8214865244984016e-63im, -2.5140234739186194 + 0.0im, 1.8846575327281494 + 0.0im, -4.099655992509164 + 0.0im, -81.90034400749083 + 0.0im, -74.29351935111026 + 3.8893845486632136e-62im, -2.3845610683158216 + 4.861730685829017e-63im, -8.254835483456697 - 2.4308653429145085e-63im, 1.2263456922767082 - 3.0385816786431356e-64im, 60.785126860576916 + 1.9446922743316068e-62im, -0.4110543600534823 + 0.0im]\n",
       " [0.889773148852634 - 1.1686610239583924e-45im, 0.5592859792787985 - 7.34176392685805e-46im, 0.6364288729724259 - 8.354421020217781e-46im, 810.6988093082979 + 1.8735360468022804e-42im, 35.07074718657827 - 7.364001329246017e-47im, -416.7729884381593 - 1.8749373452666052e-42im, 4.614571998233982 - 9.696790368214486e-48im, -5.029765481881376 - 9.899920486181493e-48im, 207.30397736900994 + 1.3616132539093681e-45im, 0.006919170662379366 - 8.937725190548302e-48im, 1.266811221462111e-5 - 1.6303864731562393e-49im, -85.98845329941908 - 1.4864848211648755e-46im, -0.011546700580922725 + 1.4864848211648755e-46im, -647.7321106630676 + 8.912066649331417e-47im, 593.6466226619638 + 2.6493299091141073e-45im, -71.97023451811863 + 9.905266015601677e-48im, -305.30397736900994 - 1.3616132539093681e-45im, -17.259579745821103 + 3.3698217464842403e-46im, 0.008139579102734615 - 1.071244095804952e-47im]\n",
       " [193.3655687455588 + 1.9750780911180381e-63im, 121.54407178292267 + 1.0635035875250975e-63im, 138.30877133918787 + 1.4433262973554894e-63im, 3.9955332989353614 - 3.7982270983039195e-65im, -2231.5503049537742 + 4.356110694502799e-60im, -0.6090927575581168 + 1.8991135491519597e-65im, -293.6250401254966 + 5.63960759556166e-61im, 0.08466445981862826 + 1.5192908393215678e-64im, -1.0347363179265667 - 1.8231490071858814e-63im, -212.54003777129674 + 3.111507638930571e-61im, 610.3194416054448 - 9.917930599091195e-61im, -0.013291324338790187 - 1.8991135491519597e-65im, -85.9867086756612 + 1.8991135491519597e-65im, -693.7619801383677 - 1.2154326714572542e-63im, 188.54356827069833 - 3.6462980143717627e-63im, -77.08466445981863 - 1.5192908393215678e-64im, -96.96526368207343 + 1.8231490071858814e-63im, 2612.9563023759865 - 3.8893845486632136e-60im, 573.1009421714684 - 9.140053689358552e-61im]\n",
       " [187.7420461215125 + 3.92615113174644e-36im, 118.00928613352214 - 2.1158898314801175e-36im, 134.28642904849073 + 1.0438389835301913e-35im, 4.094406120111476 + 1.6897731293070383e-37im, 616.14192307363 - 2.407412430484045e-34im, -0.6595215506127176 - 9.550891600431086e-39im, 81.07130566758288 - 3.611118645726067e-35im, -0.3050883531620024 - 9.4039548065783e-38im, 3.9398852378371076 + 1.5281426560689738e-36im, 2.775670373173297 - 1.7303276844104072e-35im, -9.842201638581697 + 4.513898307157584e-35im, 0.8323063594768464 - 1.6851887013388314e-34im, -86.83230635947683 + 1.6851887013388314e-34im, -690.2542048215419 - 3.84386652718888e-35im, 198.21644351801655 - 3.291384182302405e-37im, -76.694911646838 - 6.25362994637457e-36im, -101.9398852378371 - 4.4668785331246925e-36im, -34.96837465640877 + 2.2870418089598426e-34im, -10.007180466102332 + 4.81482486096809e-35im]"
      ]
     },
     "metadata": {},
     "output_type": "display_data"
    }
   ],
   "source": [
    "sols"
   ]
  },
  {
   "cell_type": "code",
   "execution_count": null,
   "metadata": {},
   "outputs": [
    {
     "data": {
      "text/plain": [
       "19-element Vector{AbstractAlgebra.Generic.MPoly{AbstractAlgebra.Generic.RationalFunctionFieldElem{QQFieldElem, QQPolyRingElem}}}:\n",
       " -24//37*t^23*x4 + t^31*x6*x11 - 24//37//t^92*x6 - 19360//85211//t^13*x7*x9 - 1032//185*t^94*x7 + 180//1813//t^26*x9 - 240//37*t^60*x16 - 24//37*t^70*x18\n",
       " t^23*x4 + 1//t^92*x6 + 2420//6909//t^13*x7*x9 + 43//5*t^94*x7 - 15//98//t^26*x9 + 10*t^60*x16 + t^70*x18 + t^91*x19\n",
       " -161//741*t^23*x4 - 161//741//t^92*x6 - 380134//5119569//t^13*x7*x9 - 6923//3705*t^94*x7 + 9967//363090//t^26*x9 + 1//t^83*x10 - 1610//741*t^60*x16 - 227//1235*t^70*x18\n",
       " 230//247*t^23*x4 + 230//247//t^92*x6 + 553846//1706523//t^13*x7*x9 + 1978//247*t^94*x7 - 8319//60515//t^26*x9 + t^42*x11 + 2300//247*t^60*x16 + 1114//1235*t^70*x18\n",
       " 1//t^2*x1 + 1582675//4696146//t^13*x7*x9 - 290//1281//t^26*x9 + 3045//793*t^60*x16\n",
       " t^5*x2 + 3481885//16436511//t^13*x7*x9 - 1276//8967//t^26*x9 + 1914//793*t^60*x16\n",
       " 1//t^98*x3 + 1320715//5478837//t^13*x7*x9 - 484//2989//t^26*x9 + 2178//793*t^60*x16\n",
       " -15//4606//t^13*x7*x9 + 1//98//t^26*x9 + 1//t^19\n",
       " 3225//122059//t^13*x7*x9 - 215//2597//t^26*x9 + t^5*x11*x12 + 5//53//t^19*x12\n",
       " 645//2303//t^13*x7*x9 - 43//49//t^26*x9 + 1//t^19*x12 + t^54*x13\n",
       " 165//658//t^13*x7*x9 + t^31*x8 - 11//14//t^26*x9 + t^60*x16\n",
       " t^30*x3*x6 + 1225//4418//t^13*x7*x9\n",
       " -175//282//t^13*x7*x9 + 1//t^95*x15\n",
       " 15//47//t^13*x7*x9 + t^26*x17\n",
       " 1//t^51*x2*x4 + 63//10*t^60*x16\n",
       " 1//t^81*x14 - 9*t^60*x16\n",
       " t^73*x5*x8 - 125//51*t^60*x16\n",
       " 1//t^31*x4*x10 + 13//40*t^70*x18\n",
       " t^88*x5 - 38//5*t^94*x7"
      ]
     },
     "metadata": {},
     "output_type": "display_data"
    }
   ],
   "source": [
    "# Choice of point\n",
    "w = pts[1]\n",
    "\n",
    "# Compute the tropical Gröbner basis and initial for the linear part\n",
    "G_linear = groebner_basis(ideal(linear_part_specialized), nu_K, w)\n",
    "initials_linear = initial.(G_linear, Ref(nu_K), Ref(w))\n",
    "\n",
    "# Substitute the y variables by the monomials\n",
    "initials = substitute_y_by_monomials.(initials_linear)\n",
    "\n",
    "# Tropical Gröbner basis\n",
    "G = substitute_y_by_perturbed_monomials.(G_linear)"
   ]
  },
  {
   "cell_type": "code",
   "execution_count": null,
   "metadata": {},
   "outputs": [
    {
     "data": {
      "text/plain": [
       "19-element Vector{AbstractAlgebra.Generic.MPoly{AbstractAlgebra.Generic.RationalFunctionFieldElem{QQFieldElem, QQPolyRingElem}}}:\n",
       " -24//37*t^334*x4 + x6*x11 - 24//37*x6 - 19360//85211*t^201*x7*x9 - 1032//185*t^301*x7 + 180//1813*t^62*x9 - 240//37*t^236*x16 - 24//37*t^282*x18\n",
       " t^334*x4 + x6 + 2420//6909*t^201*x7*x9 + 43//5*t^301*x7 - 15//98*t^62*x9 + 10*t^236*x16 + t^282*x18 + x19\n",
       " -161//741*t^334*x4 - 161//741*x6 - 380134//5119569*t^201*x7*x9 - 6923//3705*t^301*x7 + 9967//363090*t^62*x9 + x10 - 1610//741*t^236*x16 - 227//1235*t^282*x18\n",
       " 230//247*t^334*x4 + 230//247*x6 + 553846//1706523*t^201*x7*x9 + 1978//247*t^301*x7 - 8319//60515*t^62*x9 + x11 + 2300//247*t^236*x16 + 1114//1235*t^282*x18\n",
       " x1 + 1582675//4696146*t^139*x7*x9 - 290//1281*x9 + 3045//793*t^174*x16\n",
       " x2 + 3481885//16436511*t^139*x7*x9 - 1276//8967*x9 + 1914//793*t^174*x16\n",
       " x3 + 1320715//5478837*t^139*x7*x9 - 484//2989*x9 + 2178//793*t^174*x16\n",
       " -15//4606*t^139*x7*x9 + 1//98*x9 + 1\n",
       " 3225//122059*t^139*x7*x9 - 215//2597*x9 + x11*x12 + 5//53*t^99*x12\n",
       " 645//2303*t^139*x7*x9 - 43//49*x9 + t^99*x12 + x13\n",
       " 165//658*t^139*x7*x9 + x8 - 11//14*x9 + t^174*x16\n",
       " x3*x6 + 1225//4418*x7*x9\n",
       " -175//282*x7*x9 + x15\n",
       " 15//47*x7*x9 + x17\n",
       " x2*x4 + 63//10*x16\n",
       " x14 - 9*x16\n",
       " x5*x8 - 125//51*x16\n",
       " x4*x10 + 13//40*x18\n",
       " x5 - 38//5*x7"
      ]
     },
     "metadata": {},
     "output_type": "display_data"
    }
   ],
   "source": [
    "# Homotopy in OSCAR format\n",
    "projected_point = w[1:ngens(Kx)]\n",
    "H = homotopy_from_tropical_data(G,projected_point)"
   ]
  },
  {
   "cell_type": "markdown",
   "metadata": {},
   "source": [
    "## Solve start system and trace along homotopy"
   ]
  },
  {
   "cell_type": "code",
   "execution_count": null,
   "metadata": {},
   "outputs": [
    {
     "data": {
      "text/plain": [
       "1-element Vector{Vector{ComplexF64}}:\n",
       " [-22.185792349726785 + 0.0im, -13.945355191256835 + 0.0im, -15.8688524590164 + 0.0im, -43.879649916998645 + 0.0im, 3.091728124383842 + 0.0im, -0.6965922444183315 + 0.0im, 0.4068063321557688 + 0.0im, -77.00000000000003 + 0.0im, -98.00000000000004 + 0.0im, -0.15135135135135136 + 0.0im, 0.6486486486486487 + 0.0im, -12.50786163522013 + 0.0im, -86.00000000000003 + 0.0im, -874.1675768007855 + 0.0im, -24.740172327912898 + 0.0im, -97.12973075564281 + 0.0im, 12.723517197212347 + 0.0im, -20.434597882344484 + 0.0im, 0.6965922444183315 + 0.0im]"
      ]
     },
     "metadata": {},
     "output_type": "display_data"
    }
   ],
   "source": [
    "# Solve start system\n",
    "S_HC = HC_system_from_Oscar_system(initials)\n",
    "start_solutions = solve_binomial_system(S_HC)"
   ]
  },
  {
   "cell_type": "code",
   "execution_count": null,
   "metadata": {},
   "outputs": [
    {
     "data": {
      "text/plain": [
       "1-element Vector{Vector{ComplexF64}}:\n",
       " [193.3655687455588 - 4.25401435010039e-62im, 121.54407178292267 - 2.3700937093416458e-62im, 138.30877133918787 - 3.0081958618567042e-62im, 3.9955332989353614 - 2.8486703237279396e-65im, -2231.5503049537742 + 1.804674430579731e-59im, -0.6090927575581168 - 7.833843390251834e-65im, -293.6250401254966 + 2.4114184201711924e-60im, 0.08466445981862826 + 6.741853099489457e-64im, -1.0347363179265667 - 8.204170532336466e-63im, -212.54003777129674 + 1.400178437518757e-60im, 610.3194416054448 - 3.8504907031765814e-60im, -0.013291324338790187 - 8.353132251348073e-65im, -85.9867086756612 - 5.735322918438918e-63im, -693.7619801383677 + 1.409901898890415e-61im, 188.54356827069833 - 2.035849724690901e-62im, -77.08466445981863 + 1.5648695645012148e-62im, -96.96526368207343 + 1.466115659945313e-62im, 2612.9563023759865 - 1.711329201411814e-59im, 573.1009421714684 - 3.6171276302567886e-60im]"
      ]
     },
     "metadata": {},
     "output_type": "display_data"
    }
   ],
   "source": [
    "# Homotopy in HC format\n",
    "H_HC = export_homotopy_from_oscar_to_HC(H)\n",
    "trace_solutions_along_homotopy(H_HC, start_solutions)"
   ]
  },
  {
   "cell_type": "code",
   "execution_count": null,
   "metadata": {},
   "outputs": [
    {
     "data": {
      "text/plain": [
       "19-element Vector{AbstractAlgebra.Generic.MPoly{AbstractAlgebra.Generic.RationalFunctionFieldElem{QQFieldElem, QQPolyRingElem}}}:\n",
       " -24//37*t^23*x4 + t^31*x6*x11 - 24//37//t^92*x6 - 19360//85211//t^13*x7*x9 - 1032//185*t^94*x7 + 180//1813//t^26*x9 - 240//37*t^60*x16 - 24//37*t^70*x18\n",
       " t^23*x4 + 1//t^92*x6 + 2420//6909//t^13*x7*x9 + 43//5*t^94*x7 - 15//98//t^26*x9 + 10*t^60*x16 + t^70*x18 + t^91*x19\n",
       " -161//741*t^23*x4 - 161//741//t^92*x6 - 380134//5119569//t^13*x7*x9 - 6923//3705*t^94*x7 + 9967//363090//t^26*x9 + 1//t^83*x10 - 1610//741*t^60*x16 - 227//1235*t^70*x18\n",
       " 230//247*t^23*x4 + 230//247//t^92*x6 + 553846//1706523//t^13*x7*x9 + 1978//247*t^94*x7 - 8319//60515//t^26*x9 + t^42*x11 + 2300//247*t^60*x16 + 1114//1235*t^70*x18\n",
       " 1//t^2*x1 + 1582675//4696146//t^13*x7*x9 - 290//1281//t^26*x9 + 3045//793*t^60*x16\n",
       " t^5*x2 + 3481885//16436511//t^13*x7*x9 - 1276//8967//t^26*x9 + 1914//793*t^60*x16\n",
       " 1//t^98*x3 + 1320715//5478837//t^13*x7*x9 - 484//2989//t^26*x9 + 2178//793*t^60*x16\n",
       " -15//4606//t^13*x7*x9 + 1//98//t^26*x9 + 1//t^19\n",
       " 3225//122059//t^13*x7*x9 - 215//2597//t^26*x9 + t^5*x11*x12 + 5//53//t^19*x12\n",
       " 645//2303//t^13*x7*x9 - 43//49//t^26*x9 + 1//t^19*x12 + t^54*x13\n",
       " 165//658//t^13*x7*x9 + t^31*x8 - 11//14//t^26*x9 + t^60*x16\n",
       " t^30*x3*x6 + 1225//4418//t^13*x7*x9\n",
       " -175//282//t^13*x7*x9 + 1//t^95*x15\n",
       " 15//47//t^13*x7*x9 + t^26*x17\n",
       " 1//t^51*x2*x4 + 63//10*t^60*x16\n",
       " 1//t^81*x14 - 9*t^60*x16\n",
       " t^73*x5*x8 - 125//51*t^60*x16\n",
       " 1//t^31*x4*x10 + 13//40*t^70*x18\n",
       " t^88*x5 - 38//5*t^94*x7"
      ]
     },
     "metadata": {},
     "output_type": "display_data"
    }
   ],
   "source": [
    "# Choice of point\n",
    "w = pts[1]\n",
    "\n",
    "# Compute the tropical Gröbner basis and initial for the linear part\n",
    "G_linear = groebner_basis(ideal(linear_part_specialized), nu_K, w)\n",
    "initials_linear = initial.(G_linear, Ref(nu_K), Ref(w))\n",
    "\n",
    "# Substitute the y variables by the monomials\n",
    "initials = substitute_y_by_monomials.(initials_linear)\n",
    "\n",
    "# Tropical Gröbner basis\n",
    "G = substitute_y_by_perturbed_monomials.(G_linear)"
   ]
  },
  {
   "cell_type": "code",
   "execution_count": null,
   "metadata": {},
   "outputs": [
    {
     "data": {
      "text/plain": [
       "19-element Vector{AbstractAlgebra.Generic.MPoly{AbstractAlgebra.Generic.RationalFunctionFieldElem{QQFieldElem, QQPolyRingElem}}}:\n",
       " -24//37*t^334*x4 + x6*x11 - 24//37*x6 - 19360//85211*t^201*x7*x9 - 1032//185*t^301*x7 + 180//1813*t^62*x9 - 240//37*t^236*x16 - 24//37*t^282*x18\n",
       " t^334*x4 + x6 + 2420//6909*t^201*x7*x9 + 43//5*t^301*x7 - 15//98*t^62*x9 + 10*t^236*x16 + t^282*x18 + x19\n",
       " -161//741*t^334*x4 - 161//741*x6 - 380134//5119569*t^201*x7*x9 - 6923//3705*t^301*x7 + 9967//363090*t^62*x9 + x10 - 1610//741*t^236*x16 - 227//1235*t^282*x18\n",
       " 230//247*t^334*x4 + 230//247*x6 + 553846//1706523*t^201*x7*x9 + 1978//247*t^301*x7 - 8319//60515*t^62*x9 + x11 + 2300//247*t^236*x16 + 1114//1235*t^282*x18\n",
       " x1 + 1582675//4696146*t^139*x7*x9 - 290//1281*x9 + 3045//793*t^174*x16\n",
       " x2 + 3481885//16436511*t^139*x7*x9 - 1276//8967*x9 + 1914//793*t^174*x16\n",
       " x3 + 1320715//5478837*t^139*x7*x9 - 484//2989*x9 + 2178//793*t^174*x16\n",
       " -15//4606*t^139*x7*x9 + 1//98*x9 + 1\n",
       " 3225//122059*t^139*x7*x9 - 215//2597*x9 + x11*x12 + 5//53*t^99*x12\n",
       " 645//2303*t^139*x7*x9 - 43//49*x9 + t^99*x12 + x13\n",
       " 165//658*t^139*x7*x9 + x8 - 11//14*x9 + t^174*x16\n",
       " x3*x6 + 1225//4418*x7*x9\n",
       " -175//282*x7*x9 + x15\n",
       " 15//47*x7*x9 + x17\n",
       " x2*x4 + 63//10*x16\n",
       " x14 - 9*x16\n",
       " x5*x8 - 125//51*x16\n",
       " x4*x10 + 13//40*x18\n",
       " x5 - 38//5*x7"
      ]
     },
     "metadata": {},
     "output_type": "display_data"
    }
   ],
   "source": [
    "# Homotopy in OSCAR format\n",
    "projected_point = w[1:ngens(Kx)]\n",
    "H = homotopy_from_tropical_data(G,projected_point)"
   ]
  },
  {
   "cell_type": "markdown",
   "metadata": {},
   "source": [
    "## Solve start system and trace along homotopy"
   ]
  },
  {
   "cell_type": "code",
   "execution_count": null,
   "metadata": {},
   "outputs": [
    {
     "data": {
      "text/plain": [
       "1-element Vector{Vector{ComplexF64}}:\n",
       " [-22.185792349726785 + 0.0im, -13.945355191256835 + 0.0im, -15.8688524590164 + 0.0im, -43.879649916998645 + 0.0im, 3.091728124383842 + 0.0im, -0.6965922444183315 + 0.0im, 0.4068063321557688 + 0.0im, -77.00000000000003 + 0.0im, -98.00000000000004 + 0.0im, -0.15135135135135136 + 0.0im, 0.6486486486486487 + 0.0im, -12.50786163522013 + 0.0im, -86.00000000000003 + 0.0im, -874.1675768007855 + 0.0im, -24.740172327912898 + 0.0im, -97.12973075564281 + 0.0im, 12.723517197212347 + 0.0im, -20.434597882344484 + 0.0im, 0.6965922444183315 + 0.0im]"
      ]
     },
     "metadata": {},
     "output_type": "display_data"
    }
   ],
   "source": [
    "# Solve start system\n",
    "S_HC = HC_system_from_Oscar_system(initials)\n",
    "start_solutions = solve_binomial_system(S_HC)"
   ]
  },
  {
   "cell_type": "code",
   "execution_count": null,
   "metadata": {},
   "outputs": [
    {
     "data": {
      "text/plain": [
       "1-element Vector{Vector{ComplexF64}}:\n",
       " [193.3655687455588 - 4.25401435010039e-62im, 121.54407178292267 - 2.3700937093416458e-62im, 138.30877133918787 - 3.0081958618567042e-62im, 3.9955332989353614 - 2.8486703237279396e-65im, -2231.5503049537742 + 1.804674430579731e-59im, -0.6090927575581168 - 7.833843390251834e-65im, -293.6250401254966 + 2.4114184201711924e-60im, 0.08466445981862826 + 6.741853099489457e-64im, -1.0347363179265667 - 8.204170532336466e-63im, -212.54003777129674 + 1.400178437518757e-60im, 610.3194416054448 - 3.8504907031765814e-60im, -0.013291324338790187 - 8.353132251348073e-65im, -85.9867086756612 - 5.735322918438918e-63im, -693.7619801383677 + 1.409901898890415e-61im, 188.54356827069833 - 2.035849724690901e-62im, -77.08466445981863 + 1.5648695645012148e-62im, -96.96526368207343 + 1.466115659945313e-62im, 2612.9563023759865 - 1.711329201411814e-59im, 573.1009421714684 - 3.6171276302567886e-60im]"
      ]
     },
     "metadata": {},
     "output_type": "display_data"
    }
   ],
   "source": [
    "# Homotopy in HC format\n",
    "H_HC = export_homotopy_from_oscar_to_HC(H)\n",
    "trace_solutions_along_homotopy(H_HC, start_solutions)"
   ]
  },
  {
   "cell_type": "markdown",
   "metadata": {},
   "source": [
    "## Functions that put the above together"
   ]
  },
  {
   "cell_type": "code",
   "execution_count": 22,
   "metadata": {},
   "outputs": [
    {
     "name": "stdout",
     "output_type": "stream",
     "text": [
      "Time spent tropicalizing the linear part: 59.560788458\n",
      "Number of maximal polyhedra: 78983\n",
      "Time spent tropicalizing the binomial part: 0.002771458\n",
      "Time spent on stable intersection: 31.226437667\n"
     ]
    },
    {
     "data": {
      "text/plain": [
       "9"
      ]
     },
     "metadata": {},
     "output_type": "display_data"
    },
    {
     "data": {
      "text/plain": [
       "8-element Vector{Vector{QQFieldElem}}:\n",
       " [-17, -24, 79, 230, 132, 11, 126, -50, 7, 2, -123, 99, -73, 236, 215, 95, 94, 131, -172]\n",
       " [-17, -24, 79, 292, 194, 73, 188, -50, 7, 64, -61, 37, -73, 298, 277, 157, 156, 255, -48]\n",
       " [126, 119, 222, -52, -7, -271, -13, -50, 7, -280, -123, 99, -73, 97, 76, -44, -45, -433, -454]\n",
       " [-218, -225, -122, 292, -7, -128, -13, -50, -194, 64, 78, 0, 29, 97, -125, -44, -246, 255, -110]\n",
       " [91, 84, 187, -52, -42, -236, -48, -50, 42, -245, -123, 99, -73, 62, 76, -79, -45, -398, -419]\n",
       " [-235//2, -249//2, -43//2, 56, -42, -55//2, -48, -301//2, 42, 64, -45//2, 0, -143//2, -77//2, 76, -359//2, -45, 19, -110]\n",
       " [-156, -163, -60, 56, -42, 11, -48, -189, 42, -75, -200, 176, -73, -77, 76, -218, -45, -120, -249]\n",
       " [-17, -24, 79, 56, -308, -128, -314, 216, 308, 64, 78, 0, 29, 62, 76, -79, -45, 19, -110]"
      ]
     },
     "metadata": {},
     "output_type": "display_data"
    },
    {
     "data": {
      "text/plain": [
       "8-element Vector{Vector{QQMPolyRingElem}}:\n",
       " [x6*x11 + 43//20*x6, x6 + x19, -341//696*x6 + x10, -473//696*x6 + x11, x1 - 1728//3745*x9, x2 - 864//3745*x9, x3 - 832//3745*x9, -1//35*x9 + 1, -15//14*x9 + x11*x12, -36//35*x9 + x13, x8 - 34//35*x9, x3*x6 - 10013//8288*x7*x9, -323//592*x7*x9 + x15, -17//37*x7*x9 + x17, x2*x4 - 24//5*x16, x14 - 8//5*x16, x5*x8 - 5//2*x16, x4*x10 - 7//3*x18, x5 - 29//28*x7]\n",
       " [x1 - 1728//3745*x9, x2 - 864//3745*x9, x3 - 832//3745*x9, -27//2030*x9 + x10, -3//406*x9 + x11, -1//35*x9 + 1, -15//14*x9 + x11*x12, -36//35*x9 + x13, x6 - 33//35*x9, x8 - 34//35*x9, x6*x11 - 43//20*x19, x3*x6 - 10013//8288*x7*x9, -323//592*x7*x9 + x15, -17//37*x7*x9 + x17, x2*x4 - 24//5*x16, x14 - 8//5*x16, x5*x8 - 5//2*x16, x5 - 29//28*x7, x4*x10 - 7//3*x18]\n",
       " [x6*x11 - 129//112*x6, -15//28*x6 + x19, x4*x10 + 43//12*x6, -11//28*x6 + x10, 43//28*x6 + x18, x3*x6 - 9424//1071*x9, -608//153*x9 + x15, -512//153*x9 + x17, x7*x9 - 18944//2601*x9, -19//153*x9 + 1, -475//102*x9 + x11*x12, -76//17*x9 + x13, x8 - 38//9*x9, x2*x4 - 24//5*x16, x14 - 8//5*x16, x5*x8 - 5//2*x16, x5 - 29//28*x7, x1 - 27//13*x3, x2 - 27//26*x3]\n",
       " [x1 - 513//856*x9, x2 - 513//1712*x9, x3 - 247//856*x9, x3*x6 + 589//224*x9, 19//16*x9 + x15, x9 + x17, x7*x9 + 37//17*x9, x6 - 35//16*x9, x6*x11 - 1//44*x12, -5//473*x12 + x19, x10 - 1//129*x12, -1//36*x12 + 1, x8 - 17//18*x12, x2*x4 - 24//5*x16, x14 - 8//5*x16, x5*x8 - 5//2*x16, x5 - 29//28*x7, x11*x12 - 25//24*x13, x4*x10 - 7//3*x18]\n",
       " [x6*x11 - 129//112*x6, -15//28*x6 + x19, x4*x10 + 43//12*x6, -11//28*x6 + x10, 43//28*x6 + x18, x2*x4 + 216//301*x8, 72//301*x8 + x14, x5*x8 + 225//602*x8, 45//301*x8 + x16, x3*x6 - 11780//5117*x8, -760//731*x8 + x15, -640//731*x8 + x17, x7*x9 - 23680//12427*x8, -128//5117*x8 + 1, -4800//5117*x8 + x11*x12, -4608//5117*x8 + x13, x5 - 29//28*x7, x1 - 27//13*x3, x2 - 27//26*x3]\n",
       " [x1 - 432//535*x8, x2 - 216//535*x8, x2*x4 + 24//5*x8, x3 - 208//535*x8, 8//5*x8 + x14, x5*x8 + 5//2*x8, x8 + x16, x6 - 13//5*x8, x3*x6 - 2945//1152*x12, x6*x11 - 1//44*x12, -665//576*x12 + x15, -35//36*x12 + x17, -5//473*x12 + x19, x7*x9 - 1295//612*x12, x10 - 1//129*x12, -1//36*x12 + 1, x11*x12 - 25//24*x13, x5 - 29//28*x7, x4*x10 - 7//3*x18]\n",
       " [x1 - 432//535*x8, x2 - 216//535*x8, x2*x4 + 24//5*x8, x3 - 208//535*x8, 8//5*x8 + x14, x5*x8 + 5//2*x8, x8 + x16, x6*x11 - 559//100*x8, -13//5*x8 + x19, 4433//3480*x8 + x10, 6149//3480*x8 + x11, x4*x10 - 7//3*x18, x3*x6 - 2945//1152*x13, -665//576*x13 + x15, -35//36*x13 + x17, x7*x9 - 1295//612*x13, -1//36*x13 + 1, x11*x12 - 25//24*x13, x5 - 29//28*x7]\n",
       " [x5 + 29//57*x6, 28//57*x6 + x7, x1 + 15351//17120*x12, x2 + 15351//34240*x12, x2*x4 - 68//15*x12, x3 + 66521//154080*x12, -68//45*x12 + x14, x5*x8 - 85//36*x12, -17//18*x12 + x16, x3*x6 - 2945//1152*x12, x6*x11 - 1//44*x12, -665//576*x12 + x15, -35//36*x12 + x17, -5//473*x12 + x19, x7*x9 - 1295//612*x12, x10 - 1//129*x12, -1//36*x12 + 1, x11*x12 - 25//24*x13, x4*x10 - 7//3*x18]"
      ]
     },
     "metadata": {},
     "output_type": "display_data"
    },
    {
     "data": {
      "text/plain": [
       "8-element Vector{Vector{MPolyRingElem}}:\n",
       " [43//20*t^23*x4 + t^31*x6*x11 + 43//20//t^92*x6 + 509507//414400//t^13*x7*x9 + 2451//560*t^94*x7 - 1419//700//t^26*x9 + 559//100*t^60*x16 + 43//20*t^70*x18, t^23*x4 + 1//t^92*x6 + 11849//20720//t^13*x7*x9 + 57//28*t^94*x7 - 33//35//t^26*x9 + 13//5*t^60*x16 + t^70*x18 + t^91*x19, -341//696*t^23*x4 - 341//696//t^92*x6 - 4128637//14421120//t^13*x7*x9 - 6479//6496*t^94*x7 + 3643//8120//t^26*x9 + 1//t^83*x10 - 4433//3480*t^60*x16 - 11//174*t^70*x18, -473//696*t^23*x4 - 473//696//t^92*x6 - 5653537//14421120//t^13*x7*x9 - 8987//6496*t^94*x7 + 5143//8120//t^26*x9 + t^42*x11 - 6149//3480*t^60*x16 - 77//174*t^70*x18, 1//t^2*x1 + 70227//1108520//t^13*x7*x9 - 1728//3745//t^26*x9 + 432//535*t^60*x16, t^5*x2 + 70227//2217040//t^13*x7*x9 - 864//3745//t^26*x9 + 216//535*t^60*x16, 1//t^98*x3 + 33813//1108520//t^13*x7*x9 - 832//3745//t^26*x9 + 208//535*t^60*x16, -17//1295//t^13*x7*x9 - 1//35//t^26*x9 + 1//t^19, -255//518//t^13*x7*x9 - 15//14//t^26*x9 + t^5*x11*x12 + 25//24//t^19*x12, -612//1295//t^13*x7*x9 - 36//35//t^26*x9 + 1//t^19*x12 + t^54*x13, -578//1295//t^13*x7*x9 + t^31*x8 - 34//35//t^26*x9 + t^60*x16, t^30*x3*x6 - 10013//8288//t^13*x7*x9, -323//592//t^13*x7*x9 + 1//t^95*x15, -17//37//t^13*x7*x9 + t^26*x17, 1//t^51*x2*x4 - 24//5*t^60*x16, 1//t^81*x14 - 8//5*t^60*x16, t^73*x5*x8 - 5//2*t^60*x16, 1//t^31*x4*x10 - 7//3*t^70*x18, t^88*x5 - 29//28*t^94*x7]\n",
       " [1//t^2*x1 + 70227//1108520//t^13*x7*x9 - 1728//3745//t^26*x9 + 432//535*t^60*x16, t^5*x2 + 70227//2217040//t^13*x7*x9 - 864//3745//t^26*x9 + 216//535*t^60*x16, 1//t^98*x3 + 33813//1108520//t^13*x7*x9 - 832//3745//t^26*x9 + 208//535*t^60*x16, -459//75110//t^13*x7*x9 - 27//2030//t^26*x9 + 1//t^83*x10 + 99//232*t^70*x18 + 341//696*t^91*x19, -51//15022//t^13*x7*x9 - 3//406//t^26*x9 + t^42*x11 + 55//232*t^70*x18 + 473//696*t^91*x19, -17//1295//t^13*x7*x9 - 1//35//t^26*x9 + 1//t^19, -255//518//t^13*x7*x9 - 15//14//t^26*x9 + t^5*x11*x12 + 25//24//t^19*x12, -612//1295//t^13*x7*x9 - 36//35//t^26*x9 + 1//t^19*x12 + t^54*x13, t^23*x4 + 1//t^92*x6 + 11849//20720//t^13*x7*x9 + 57//28*t^94*x7 - 33//35//t^26*x9 + 13//5*t^60*x16 + t^70*x18 + t^91*x19, -578//1295//t^13*x7*x9 + t^31*x8 - 34//35//t^26*x9 + t^60*x16, t^31*x6*x11 - 43//20*t^91*x19, t^30*x3*x6 - 10013//8288//t^13*x7*x9, -323//592//t^13*x7*x9 + 1//t^95*x15, -17//37//t^13*x7*x9 + t^26*x17, 1//t^51*x2*x4 - 24//5*t^60*x16, 1//t^81*x14 - 8//5*t^60*x16, t^73*x5*x8 - 5//2*t^60*x16, t^88*x5 - 29//28*t^94*x7, 1//t^31*x4*x10 - 7//3*t^70*x18]\n",
       " [36159259//1633632//t^98*x3 - 129//112*t^23*x4 + t^31*x6*x11 - 129//112//t^92*x6 - 7353//3136*t^94*x7 - 242993//62832//t^26*x9 + 3741//770*t^42*x11 + 1762699//314160*t^60*x16, 4204565//408408//t^98*x3 - 15//28*t^23*x4 - 15//28//t^92*x6 - 855//784*t^94*x7 - 28255//15708//t^26*x9 + 174//77*t^42*x11 + 40993//15708*t^60*x16 + t^91*x19, -35584027//525096//t^98*x3 + 1//t^31*x4*x10 + 43//12*t^23*x4 + 43//12//t^92*x6 + 817//112*t^94*x7 + 236609//20196//t^26*x9 - 58//11*t^42*x11 - 1719691//100980*t^60*x16, 840913//111384//t^98*x3 - 11//28*t^23*x4 - 11//28//t^92*x6 - 627//784*t^94*x7 - 5651//4284//t^26*x9 + 1//t^83*x10 - 1//7*t^42*x11 + 40993//21420*t^60*x16, -35584027//1225224//t^98*x3 + 43//28*t^23*x4 + 43//28//t^92*x6 + 2451//784*t^94*x7 + 236609//47124//t^26*x9 - 174//77*t^42*x11 - 1719691//235620*t^60*x16 + t^70*x18, t^30*x3*x6 + 315115//7956//t^98*x3 - 9424//1071//t^26*x9 + 2356//153*t^60*x16, 71155//3978//t^98*x3 - 608//153//t^26*x9 + 1//t^95*x15 + 1064//153*t^60*x16, 29960//1989//t^98*x3 - 512//153//t^26*x9 + 896//153*t^60*x16 + t^26*x17, 1108520//33813//t^98*x3 + 1//t^13*x7*x9 - 18944//2601//t^26*x9 + 33152//2601*t^60*x16, 856//1989//t^98*x3 - 19//153//t^26*x9 + 128//765*t^60*x16 + 1//t^19, 10700//663//t^98*x3 - 475//102//t^26*x9 + t^5*x11*x12 + 25//24//t^19*x12 + 320//51*t^60*x16, 3424//221//t^98*x3 - 76//17//t^26*x9 + 1//t^19*x12 + t^54*x13 + 512//85*t^60*x16, 1712//117//t^98*x3 + t^31*x8 - 38//9//t^26*x9 + 301//45*t^60*x16, 1//t^51*x2*x4 - 24//5*t^60*x16, 1//t^81*x14 - 8//5*t^60*x16, t^73*x5*x8 - 5//2*t^60*x16, t^88*x5 - 29//28*t^94*x7, 1//t^2*x1 - 27//13//t^98*x3, t^5*x2 - 27//26//t^98*x3]\n",
       " [1//t^2*x1 - 513//856//t^26*x9 + 459//3424//t^19*x12 + 459//3424*t^54*x13 + 432//535*t^60*x16, t^5*x2 - 513//1712//t^26*x9 + 459//6848//t^19*x12 + 459//6848*t^54*x13 + 216//535*t^60*x16, 1//t^98*x3 - 247//856//t^26*x9 + 221//3424//t^19*x12 + 221//3424*t^54*x13 + 208//535*t^60*x16, t^30*x3*x6 + 589//224//t^26*x9 - 2945//1152//t^19*x12 - 2945//1152*t^54*x13, 19//16//t^26*x9 - 665//576//t^19*x12 - 665//576*t^54*x13 + 1//t^95*x15, 1//t^26*x9 - 35//36//t^19*x12 - 35//36*t^54*x13 + t^26*x17, 1//t^13*x7*x9 + 37//17//t^26*x9 - 1295//612//t^19*x12 - 1295//612*t^54*x13, t^23*x4 + 1//t^92*x6 + 57//28*t^94*x7 - 35//16//t^26*x9 - 696//473*t^42*x11 + 332561//272448//t^19*x12 + 332561//272448*t^54*x13 + 13//5*t^60*x16 + 28//43*t^70*x18, t^31*x6*x11 + 174//55*t^42*x11 - 1//44//t^19*x12 - 1//44*t^54*x13 + 3//4*t^70*x18, 696//473*t^42*x11 - 5//473//t^19*x12 - 5//473*t^54*x13 + 15//43*t^70*x18 + t^91*x19, 1//t^83*x10 - 31//43*t^42*x11 - 1//129//t^19*x12 - 1//129*t^54*x13 + 11//43*t^70*x18, -1//36//t^19*x12 - 1//36*t^54*x13 + 1//t^19, t^31*x8 - 17//18//t^19*x12 - 17//18*t^54*x13 + t^60*x16, 1//t^51*x2*x4 - 24//5*t^60*x16, 1//t^81*x14 - 8//5*t^60*x16, t^73*x5*x8 - 5//2*t^60*x16, t^88*x5 - 29//28*t^94*x7, t^5*x11*x12 - 25//24*t^54*x13, 1//t^31*x4*x10 - 7//3*t^70*x18]\n",
       " [37584927//3811808//t^98*x3 - 129//112*t^23*x4 + t^31*x6*x11 - 129//112//t^92*x6 - 7353//3136*t^94*x7 - 122979//146608*t^31*x8 - 47739//146608//t^26*x9 + 3741//770*t^42*x11, 187924635//40976936//t^98*x3 - 15//28*t^23*x4 - 15//28//t^92*x6 - 855//784*t^94*x7 - 614895//1576036*t^31*x8 - 238695//1576036//t^26*x9 + 174//77*t^42*x11 + t^91*x19, -178613709//5853848//t^98*x3 + 1//t^31*x4*x10 + 43//12*t^23*x4 + 43//12//t^92*x6 + 817//112*t^94*x7 + 1719691//675444*t^31*x8 + 652339//675444//t^26*x9 - 58//11*t^42*x11, 12528309//3725176//t^98*x3 - 11//28*t^23*x4 - 11//28//t^92*x6 - 627//784*t^94*x7 - 40993//143276*t^31*x8 - 15913//143276//t^26*x9 + 1//t^83*x10 - 1//7*t^42*x11, -535841127//40976936//t^98*x3 + 43//28*t^23*x4 + 43//28//t^92*x6 + 2451//784*t^94*x7 + 1719691//1576036*t^31*x8 + 652339//1576036//t^26*x9 - 174//77*t^42*x11 + t^70*x18, 1//t^51*x2*x4 + 41088//3913//t^98*x3 + 216//301*t^31*x8 - 912//301//t^26*x9, 13696//3913//t^98*x3 + 72//301*t^31*x8 - 304//301//t^26*x9 + 1//t^81*x14, 21400//3913//t^98*x3 + t^73*x5*x8 + 225//602*t^31*x8 - 475//301//t^26*x9, 8560//3913//t^98*x3 + 45//301*t^31*x8 - 190//301//t^26*x9 + t^60*x16, t^30*x3*x6 + 1575575//266084//t^98*x3 - 11780//5117*t^31*x8 + 4712//5117//t^26*x9, 50825//19006//t^98*x3 - 760//731*t^31*x8 + 304//731//t^26*x9 + 1//t^95*x15, 21400//9503//t^98*x3 - 640//731*t^31*x8 + 256//731//t^26*x9 + t^26*x17, 791800//161551//t^98*x3 + 1//t^13*x7*x9 - 23680//12427*t^31*x8 + 9472//12427//t^26*x9, 4280//66521//t^98*x3 - 128//5117*t^31*x8 - 95//5117//t^26*x9 + 1//t^19, 160500//66521//t^98*x3 - 4800//5117*t^31*x8 - 7125//10234//t^26*x9 + t^5*x11*x12 + 25//24//t^19*x12, 154080//66521//t^98*x3 - 4608//5117*t^31*x8 - 3420//5117//t^26*x9 + 1//t^19*x12 + t^54*x13, t^88*x5 - 29//28*t^94*x7, 1//t^2*x1 - 27//13//t^98*x3, t^5*x2 - 27//26//t^98*x3]\n",
       " [1//t^2*x1 - 432//535*t^31*x8 - 513//856//t^26*x9 + 15351//17120//t^19*x12 + 15351//17120*t^54*x13, t^5*x2 - 216//535*t^31*x8 - 513//1712//t^26*x9 + 15351//34240//t^19*x12 + 15351//34240*t^54*x13, 1//t^51*x2*x4 + 24//5*t^31*x8 - 68//15//t^19*x12 - 68//15*t^54*x13, 1//t^98*x3 - 208//535*t^31*x8 - 247//856//t^26*x9 + 66521//154080//t^19*x12 + 66521//154080*t^54*x13, 8//5*t^31*x8 - 68//45//t^19*x12 - 68//45*t^54*x13 + 1//t^81*x14, t^73*x5*x8 + 5//2*t^31*x8 - 85//36//t^19*x12 - 85//36*t^54*x13, t^31*x8 - 17//18//t^19*x12 - 17//18*t^54*x13 + t^60*x16, t^23*x4 + 1//t^92*x6 + 57//28*t^94*x7 - 13//5*t^31*x8 - 35//16//t^26*x9 - 696//473*t^42*x11 + 556429//151360//t^19*x12 + 556429//151360*t^54*x13 + 28//43*t^70*x18, t^30*x3*x6 + 589//224//t^26*x9 - 2945//1152//t^19*x12 - 2945//1152*t^54*x13, t^31*x6*x11 + 174//55*t^42*x11 - 1//44//t^19*x12 - 1//44*t^54*x13 + 3//4*t^70*x18, 19//16//t^26*x9 - 665//576//t^19*x12 - 665//576*t^54*x13 + 1//t^95*x15, 1//t^26*x9 - 35//36//t^19*x12 - 35//36*t^54*x13 + t^26*x17, 696//473*t^42*x11 - 5//473//t^19*x12 - 5//473*t^54*x13 + 15//43*t^70*x18 + t^91*x19, 1//t^13*x7*x9 + 37//17//t^26*x9 - 1295//612//t^19*x12 - 1295//612*t^54*x13, 1//t^83*x10 - 31//43*t^42*x11 - 1//129//t^19*x12 - 1//129*t^54*x13 + 11//43*t^70*x18, -1//36//t^19*x12 - 1//36*t^54*x13 + 1//t^19, t^5*x11*x12 - 25//24*t^54*x13, t^88*x5 - 29//28*t^94*x7, 1//t^31*x4*x10 - 7//3*t^70*x18]\n",
       " [1//t^2*x1 - 432//535*t^31*x8 - 513//856//t^26*x9 + 15351//17120//t^19*x12 + 15351//17120*t^54*x13, t^5*x2 - 216//535*t^31*x8 - 513//1712//t^26*x9 + 15351//34240//t^19*x12 + 15351//34240*t^54*x13, 1//t^51*x2*x4 + 24//5*t^31*x8 - 68//15//t^19*x12 - 68//15*t^54*x13, 1//t^98*x3 - 208//535*t^31*x8 - 247//856//t^26*x9 + 66521//154080//t^19*x12 + 66521//154080*t^54*x13, 8//5*t^31*x8 - 68//45//t^19*x12 - 68//45*t^54*x13 + 1//t^81*x14, t^73*x5*x8 + 5//2*t^31*x8 - 85//36//t^19*x12 - 85//36*t^54*x13, t^31*x8 - 17//18//t^19*x12 - 17//18*t^54*x13 + t^60*x16, 43//20*t^23*x4 + t^31*x6*x11 + 43//20//t^92*x6 + 2451//560*t^94*x7 - 559//100*t^31*x8 - 301//64//t^26*x9 + 50439//6400//t^19*x12 + 50439//6400*t^54*x13 + 43//20*t^70*x18, t^23*x4 + 1//t^92*x6 + 57//28*t^94*x7 - 13//5*t^31*x8 - 35//16//t^26*x9 + 1173//320//t^19*x12 + 1173//320*t^54*x13 + t^70*x18 + t^91*x19, -341//696*t^23*x4 - 341//696//t^92*x6 - 6479//6496*t^94*x7 + 4433//3480*t^31*x8 + 11935//11136//t^26*x9 + 1//t^83*x10 - 134291//74240//t^19*x12 - 134291//74240*t^54*x13 - 11//174*t^70*x18, -473//696*t^23*x4 - 473//696//t^92*x6 - 8987//6496*t^94*x7 + 6149//3480*t^31*x8 + 16555//11136//t^26*x9 + t^42*x11 - 556429//222720//t^19*x12 - 556429//222720*t^54*x13 - 77//174*t^70*x18, 1//t^31*x4*x10 - 7//3*t^70*x18, t^30*x3*x6 + 589//224//t^26*x9 - 2945//1152//t^19*x12 - 2945//1152*t^54*x13, 19//16//t^26*x9 - 665//576//t^19*x12 - 665//576*t^54*x13 + 1//t^95*x15, 1//t^26*x9 - 35//36//t^19*x12 - 35//36*t^54*x13 + t^26*x17, 1//t^13*x7*x9 + 37//17//t^26*x9 - 1295//612//t^19*x12 - 1295//612*t^54*x13, -1//36//t^19*x12 - 1//36*t^54*x13 + 1//t^19, t^5*x11*x12 - 25//24*t^54*x13, t^88*x5 - 29//28*t^94*x7]\n",
       " [29//57*t^23*x4 + t^88*x5 + 29//57//t^92*x6 - 377//285*t^31*x8 - 1015//912//t^26*x9 - 6728//8987*t^42*x11 + 16136441//8627520//t^19*x12 + 16136441//8627520*t^54*x13 + 812//2451*t^70*x18, 28//57*t^23*x4 + 28//57//t^92*x6 + t^94*x7 - 364//285*t^31*x8 - 245//228//t^26*x9 - 6496//8987*t^42*x11 + 3895003//2156880//t^19*x12 + 3895003//2156880*t^54*x13 + 784//2451*t^70*x18, 1//t^2*x1 - 432//535*t^31*x8 - 513//856//t^26*x9 + 15351//17120//t^19*x12 + 15351//17120*t^54*x13, t^5*x2 - 216//535*t^31*x8 - 513//1712//t^26*x9 + 15351//34240//t^19*x12 + 15351//34240*t^54*x13, 1//t^51*x2*x4 + 24//5*t^31*x8 - 68//15//t^19*x12 - 68//15*t^54*x13, 1//t^98*x3 - 208//535*t^31*x8 - 247//856//t^26*x9 + 66521//154080//t^19*x12 + 66521//154080*t^54*x13, 8//5*t^31*x8 - 68//45//t^19*x12 - 68//45*t^54*x13 + 1//t^81*x14, t^73*x5*x8 + 5//2*t^31*x8 - 85//36//t^19*x12 - 85//36*t^54*x13, t^31*x8 - 17//18//t^19*x12 - 17//18*t^54*x13 + t^60*x16, t^30*x3*x6 + 589//224//t^26*x9 - 2945//1152//t^19*x12 - 2945//1152*t^54*x13, t^31*x6*x11 + 174//55*t^42*x11 - 1//44//t^19*x12 - 1//44*t^54*x13 + 3//4*t^70*x18, 19//16//t^26*x9 - 665//576//t^19*x12 - 665//576*t^54*x13 + 1//t^95*x15, 1//t^26*x9 - 35//36//t^19*x12 - 35//36*t^54*x13 + t^26*x17, 696//473*t^42*x11 - 5//473//t^19*x12 - 5//473*t^54*x13 + 15//43*t^70*x18 + t^91*x19, 1//t^13*x7*x9 + 37//17//t^26*x9 - 1295//612//t^19*x12 - 1295//612*t^54*x13, 1//t^83*x10 - 31//43*t^42*x11 - 1//129//t^19*x12 - 1//129*t^54*x13 + 11//43*t^70*x18, -1//36//t^19*x12 - 1//36*t^54*x13 + 1//t^19, t^5*x11*x12 - 25//24*t^54*x13, 1//t^31*x4*x10 - 7//3*t^70*x18]"
      ]
     },
     "metadata": {},
     "output_type": "display_data"
    }
   ],
   "source": [
    "# Computation of tropical intersection data\n",
    "grc, projected_pts, initial_systems, tropical_groebner_bases, perturbed_parameters =\n",
    "    tropical_root_count_with_homotopy_data_vertical(F, perturbed_parameters=perturbed_parameters, verbose=true)\n",
    "\n",
    "display(grc)\n",
    "display(projected_pts)\n",
    "display(initial_systems)\n",
    "display(tropical_groebner_bases)"
   ]
  }
 ],
 "metadata": {
  "kernelspec": {
   "display_name": "Julia 1.10.4",
   "language": "julia",
   "name": "julia-1.10"
  },
  "language_info": {
   "file_extension": ".jl",
   "mimetype": "application/julia",
   "name": "julia",
   "version": "1.10.4"
  }
 },
 "nbformat": 4,
 "nbformat_minor": 2
}
