{
 "cells": [
  {
   "cell_type": "code",
   "execution_count": 1,
   "metadata": {},
   "outputs": [
    {
     "name": "stdout",
     "output_type": "stream",
     "text": [
      "\r"
     ]
    }
   ],
   "source": [
    "include(\"../src/main.jl\");"
   ]
  },
  {
   "cell_type": "markdown",
   "metadata": {},
   "source": [
    "## Construction of the system"
   ]
  },
  {
   "cell_type": "code",
   "execution_count": 2,
   "metadata": {},
   "outputs": [
    {
     "data": {
      "text/plain": [
       "19-element Vector{AbstractAlgebra.Generic.MPoly{QQMPolyRingElem}}:\n",
       " -k1*x1 + k2*x2\n",
       " k1*x1 - k3*x2*x4 + (-k2 - k26)*x2 + k27*x3 + (k4 + k5)*x14\n",
       " -k6*x5*x8 - k28*x5 + k29*x7 + k5*x14 + k7*x16\n",
       " -k14*x3*x6 - k20*x6*x11 + k15*x15 + k19*x17 + (k21 + k22)*x19\n",
       " k28*x5 - k17*x7*x9 - k29*x7 + k16*x15 + k18*x17\n",
       " -k9*x4*x10 + (-k13 - k30)*x10 + k31*x11 + k10*x18 + k12\n",
       " -k20*x6*x11 + k30*x10 - k24*x11*x12 + (-k23 - k31)*x11 + k25*x13 + k21*x19\n",
       " -k24*x11*x12 + k25*x13\n",
       " k3*x2*x4 + (-k4 - k5)*x14\n",
       " k14*x3*x6 + (-k15 - k16)*x15\n",
       " -k6*x5*x8 + (k7 + k8)*x16\n",
       " -k17*x7*x9 + (k18 + k19)*x17\n",
       " k9*x4*x10 + (-k10 - k11)*x18\n",
       " k20*x6*x11 + (-k21 - k22)*x19\n",
       " x1 + x2 + x3 + x14 + x15 - c1\n",
       " x4 + x5 + x6 + x7 + x14 + x15 + x16 + x17 + x18 + x19 - c2\n",
       " x8 + x16 - c3\n",
       " x9 + x17 - c4\n",
       " x12 + x13 - c5"
      ]
     },
     "metadata": {},
     "output_type": "display_data"
    }
   ],
   "source": [
    "# Define ring of parameters\n",
    "A, (k1, k2, k3, k4, k5, k6, k7, k8, k9, k10, k11, k12, k13, k14, k15, k16, k17, k18, k19, k20, k21, k22, k23, k24, k25, k26, k27, k28, k29, k30, k31, c1, c2, c3, c4, c5) =\n",
    "    polynomial_ring(QQ, [\"k1\", \"k2\", \"k3\", \"k4\", \"k5\", \"k6\", \"k7\", \"k8\", \"k9\", \"k10\", \"k11\", \"k12\", \"k13\", \"k14\", \"k15\", \"k16\", \"k17\", \"k18\", \"k19\", \"k20\", \"k21\", \"k22\", \"k23\", \"k24\", \"k25\", \"k26\", \"k27\", \"k28\", \"k29\", \"k30\", \"k31\", \"c1\", \"c2\", \"c3\", \"c4\", \"c5\"]);\n",
    "\n",
    "# Define ring of parameterized polynomials\n",
    "B, (x1, x2, x3, x4, x5, x6, x7, x8, x9, x10, x11, x12, x13, x14, x15, x16, x17, x18, x19) = polynomial_ring(A, [\"x1\", \"x2\", \"x3\", \"x4\", \"x5\", \"x6\", \"x7\", \"x8\", \"x9\", \"x10\", \"x11\", \"x12\", \"x13\", \"x14\", \"x15\", \"x16\", \"x17\", \"x18\", \"x19\"]);\n",
    "\n",
    "# Define the square(!) system of steady state equations and conservation laws\n",
    "steadyStateEqs = [\n",
    "    -k1 * x1 + k2 * x2, # x1\n",
    "    k1 * x1 - (k2 + k26) * x2 + k27 * x3 - k3 * x2 * x4 + (k4 + k5) * x14, # x2\n",
    "    k26 * x2 - k27 * x3 - k14 * x3 * x6 + (k15 + k16) * x15, # x3\n",
    "    -k3 * x2 * x4 - k9 * x4 * x10 + k4 * x14 + k8 * x16 + (k10 + k11) * x18, # x4\n",
    "    -k28 * x5 + k29 * x7 - k6 * x5 * x8 + k5 * x14 + k7 * x16, # x5\n",
    "    -k14 * x3 * x6 - k20 * x6 * x11 + k15 * x15 + k19 * x17 + (k21 + k22) * x19, # x6\n",
    "    k28 * x5 - k29 * x7 - k17 * x7 * x9 + k16 * x15 + k18 * x17, # x7\n",
    "    -k6 * x5 * x8 + (k7 + k8) * x16, # x8\n",
    "    -k17 * x7 * x9 + (k18 + k19) * x17, # x9\n",
    "    k12 - (k13 + k30) * x10 - k9 * x4 * x10 + k31 * x11 + k10 * x18, # x10\n",
    "    -k23 * x11 + k30 * x10 - k31 * x11 - k20 * x6 * x11 - k24 * x11 * x12 + k25 * x13 + k21 * x19, # x11\n",
    "    -k24 * x11 * x12 + k25 * x13, # x12\n",
    "    -k24 * x11 * x12 + k25 * x13, # x13\n",
    "    k3 * x2 * x4 - (k4 + k5) * x14, # x14\n",
    "    k14 * x3 * x6 - (k15 + k16) * x15, # x15\n",
    "    -k6 * x5 * x8 + (k7 + k8) * x16, # x16\n",
    "    -k17 * x7 * x9 + (k18 + k19) * x17, # x17\n",
    "    k9 * x4 * x10 - (k10 + k11) * x18, # x18\n",
    "    k20 * x6 * x11 - (k21 + k22) * x19]; # x19\n",
    "\n",
    "conservationLaws = [\n",
    "    (x1 + x2 + x3 + x14 + x15) - c1,\n",
    "    (x4 + x5 + x6 + x7 + x14 + x15 + x16 + x17 + x18 + x19) - c2,\n",
    "    (x8 + x16) - c3,\n",
    "    (x9 + x17) - c4,\n",
    "    (x12 + x13) - c5];\n",
    "\n",
    "system = vcat([steadyStateEq for (i, steadyStateEq) in enumerate(steadyStateEqs) if i ∉ [3, 4, 8, 9, 12]],\n",
    "    conservationLaws)\n"
   ]
  },
  {
   "cell_type": "code",
   "execution_count": 3,
   "metadata": {},
   "outputs": [
    {
     "data": {
      "text/plain": [
       "19-element Vector{QQMPolyRingElem}:\n",
       " -x1 + 2*x2\n",
       " x1 - 3*x2*x4 - 28*x2 + 27*x3 + 9*x14\n",
       " -6*x5*x8 - 28*x5 + 29*x7 + 5*x14 + 7*x16\n",
       " -14*x3*x6 - 20*x6*x11 + 15*x15 + 19*x17 + 43*x19\n",
       " 28*x5 - 17*x7*x9 - 29*x7 + 16*x15 + 18*x17\n",
       " -9*x4*x10 - 43*x10 + 31*x11 + 10*x18 + 12\n",
       " -20*x6*x11 + 30*x10 - 24*x11*x12 - 54*x11 + 25*x13 + 21*x19\n",
       " -24*x11*x12 + 25*x13\n",
       " 3*x2*x4 - 9*x14\n",
       " 14*x3*x6 - 31*x15\n",
       " -6*x5*x8 + 15*x16\n",
       " -17*x7*x9 + 37*x17\n",
       " 9*x4*x10 - 21*x18\n",
       " 20*x6*x11 - 43*x19\n",
       " x1 + x2 + x3 + x14 + x15 - 32\n",
       " x4 + x5 + x6 + x7 + x14 + x15 + x16 + x17 + x18 + x19 - 33\n",
       " x8 + x16 - 34\n",
       " x9 + x17 - 35\n",
       " x12 + x13 - 36"
      ]
     },
     "metadata": {},
     "output_type": "display_data"
    }
   ],
   "source": [
    "# Make a choice of parameters\n",
    "number_of_parameters = ngens(coefficient_ring(parent(first(system))))\n",
    "target_parameters = collect(1:number_of_parameters)\n",
    "target_system = specialize(system, target_parameters)"
   ]
  },
  {
   "cell_type": "markdown",
   "metadata": {},
   "source": [
    "## Embedding in vertical family"
   ]
  },
  {
   "cell_type": "code",
   "execution_count": 4,
   "metadata": {},
   "outputs": [
    {
     "data": {
      "text/plain": [
       "(AbstractAlgebra.Generic.MPoly{QQMPolyRingElem}[-a[1]*x1 + 2*a[2]*x2, a[1]*x1 - 3*a[3]*x2*x4 - 28*a[2]*x2 + 27*a[4]*x3 + 9*a[5]*x14, -6*a[6]*x5*x8 - 28*a[7]*x5 + 29*a[8]*x7 + 5*a[5]*x14 + 7*a[9]*x16, -14*a[10]*x3*x6 - 20*a[11]*x6*x11 + 15*a[12]*x15 + 19*a[13]*x17 + 43*a[14]*x19, 28*a[7]*x5 - 17*a[15]*x7*x9 - 29*a[8]*x7 + 16*a[12]*x15 + 18*a[13]*x17, -9*a[16]*x4*x10 - 43*a[17]*x10 + 31*a[18]*x11 + 10*a[19]*x18 + 12*a[20], -20*a[11]*x6*x11 + 30*a[17]*x10 - 24*a[21]*x11*x12 - 54*a[18]*x11 + 25*a[22]*x13 + 21*a[14]*x19, -24*a[21]*x11*x12 + 25*a[22]*x13, 3*a[3]*x2*x4 - 9*a[5]*x14, 14*a[10]*x3*x6 - 31*a[12]*x15, -6*a[6]*x5*x8 + 15*a[9]*x16, -17*a[15]*x7*x9 + 37*a[13]*x17, 9*a[16]*x4*x10 - 21*a[19]*x18, 20*a[11]*x6*x11 - 43*a[14]*x19, a[1]*x1 + a[2]*x2 + a[4]*x3 + a[5]*x14 + a[12]*x15 - 32*a[20], a[23]*x4 + a[7]*x5 + a[24]*x6 + a[8]*x7 + a[5]*x14 + a[12]*x15 + a[9]*x16 + a[13]*x17 + a[19]*x18 + a[14]*x19 - 33*a[20], a[25]*x8 + a[9]*x16 - 34*a[20], a[26]*x9 + a[13]*x17 - 35*a[20], a[27]*x12 + a[22]*x13 - 36*a[20]], QQFieldElem[1, 1, 1, 1, 1, 1, 1, 1, 1, 1  …  1, 1, 1, 1, 1, 1, 1, 1, 1, 1])"
      ]
     },
     "metadata": {},
     "output_type": "display_data"
    }
   ],
   "source": [
    "F, target_parameters = vertical_embedding(target_system)"
   ]
  },
  {
   "cell_type": "markdown",
   "metadata": {},
   "source": [
    "## Pertubation of parameters\n",
    "This need to be repeated until a transversal intersection is found in next step."
   ]
  },
  {
   "cell_type": "code",
   "execution_count": 5,
   "metadata": {},
   "outputs": [],
   "source": [
    "m = length(target_parameters)\n",
    "Kt, t = rational_function_field(QQ, \"t\")\n",
    "\n",
    "v = [-2, 5, -51, -98, -81, 73, 88, 94, 60, 30, 31, -95, 26, 91, -13, -31, -83, 42, 70, -19, 5, 54, 23, -92, 31, -26, -19]\n",
    "#v = rand(-100:100, m)\n",
    "\n",
    "perturbed_parameters = (t .^ v) .* target_parameters;"
   ]
  },
  {
   "cell_type": "code",
   "execution_count": 6,
   "metadata": {},
   "outputs": [
    {
     "data": {
      "text/plain": [
       "19-element Vector{AbstractAlgebra.Generic.MPoly{QQMPolyRingElem}}:\n",
       " -y[1] + 2*y[2]\n",
       " y[1] - 28*y[2] - 3*y[3] + 27*y[4] + 9*y[5]\n",
       " 5*y[5] - 6*y[6] - 28*y[7] + 29*y[8] + 7*y[9]\n",
       " -14*y[10] - 20*y[11] + 15*y[12] + 19*y[13] + 43*y[14]\n",
       " 28*y[7] - 29*y[8] + 16*y[12] + 18*y[13] - 17*y[15]\n",
       " -9*y[16] - 43*y[17] + 31*y[18] + 10*y[19] + 12*y[20]\n",
       " -20*y[11] + 21*y[14] + 30*y[17] - 54*y[18] - 24*y[21] + 25*y[22]\n",
       " -24*y[21] + 25*y[22]\n",
       " 3*y[3] - 9*y[5]\n",
       " 14*y[10] - 31*y[12]\n",
       " -6*y[6] + 15*y[9]\n",
       " 37*y[13] - 17*y[15]\n",
       " 9*y[16] - 21*y[19]\n",
       " 20*y[11] - 43*y[14]\n",
       " y[1] + y[2] + y[4] + y[5] + y[12] - 32*y[20]\n",
       " y[5] + y[7] + y[8] + y[9] + y[12] + y[13] + y[14] + y[19] - 33*y[20] + y[23] + y[24]\n",
       " y[9] - 34*y[20] + y[25]\n",
       " y[13] - 35*y[20] + y[26]\n",
       " -36*y[20] + y[22] + y[27]"
      ]
     },
     "metadata": {},
     "output_type": "display_data"
    },
    {
     "data": {
      "text/plain": [
       "27-element Vector{AbstractAlgebra.Generic.MPoly{QQMPolyRingElem}}:\n",
       " -a[1]*x1 + y[1]\n",
       " -a[2]*x2 + y[2]\n",
       " -a[3]*x2*x4 + y[3]\n",
       " -a[4]*x3 + y[4]\n",
       " -a[5]*x14 + y[5]\n",
       " -a[6]*x5*x8 + y[6]\n",
       " -a[7]*x5 + y[7]\n",
       " -a[8]*x7 + y[8]\n",
       " -a[9]*x16 + y[9]\n",
       " -a[10]*x3*x6 + y[10]\n",
       " ⋮\n",
       " -a[19]*x18 + y[19]\n",
       " y[20] - a[20]\n",
       " -a[21]*x11*x12 + y[21]\n",
       " -a[22]*x13 + y[22]\n",
       " -a[23]*x4 + y[23]\n",
       " -a[24]*x6 + y[24]\n",
       " -a[25]*x8 + y[25]\n",
       " -a[26]*x9 + y[26]\n",
       " -a[27]*x12 + y[27]"
      ]
     },
     "metadata": {},
     "output_type": "display_data"
    }
   ],
   "source": [
    "linear_part, binomial_part = modify_vertically(F)\n",
    "display(linear_part)\n",
    "display(binomial_part)"
   ]
  },
  {
   "cell_type": "markdown",
   "metadata": {},
   "source": [
    "## Tropicalizations"
   ]
  },
  {
   "cell_type": "code",
   "execution_count": 7,
   "metadata": {},
   "outputs": [],
   "source": [
    "Kaxy = parent(first(binomial_part));\n",
    "Ka = coefficient_ring(Kaxy);\n",
    "K = base_ring(Ka);\n",
    "Kx, x = polynomial_ring(K, symbols(parent(first(F))));"
   ]
  },
  {
   "cell_type": "code",
   "execution_count": 8,
   "metadata": {},
   "outputs": [
    {
     "name": "stdout",
     "output_type": "stream",
     "text": [
      " 47.666207 seconds (715.96 M allocations: 5.592 GiB, 0.14% gc time, 2.65% compilation time)\n"
     ]
    },
    {
     "data": {
      "text/plain": [
       "Min tropical linear space"
      ]
     },
     "metadata": {},
     "output_type": "display_data"
    }
   ],
   "source": [
    "# Tropicalize the linear part over QQ\n",
    "linear_part_specialized = specialize(linear_part, K.(ones(Int, ngens(Ka))))\n",
    "nu_K = tropical_semiring_map(K)\n",
    "@time TropL = tropical_linear_space(ideal(linear_part_specialized), nu_K)"
   ]
  },
  {
   "cell_type": "code",
   "execution_count": 9,
   "metadata": {},
   "outputs": [
    {
     "data": {
      "text/plain": [
       "78983"
      ]
     },
     "metadata": {},
     "output_type": "display_data"
    }
   ],
   "source": [
    "length(maximal_polyhedra(TropL))"
   ]
  },
  {
   "cell_type": "code",
   "execution_count": null,
   "metadata": {},
   "outputs": [],
   "source": [
    "Ktx, x = polynomial_ring(Kt, symbols(Kx))\n",
    "Ktxy, xy = polynomial_ring(Kt, symbols(Kaxy));"
   ]
  },
  {
   "cell_type": "code",
   "execution_count": null,
   "metadata": {},
   "outputs": [],
   "source": [
    "# Tropicalize the binomial part over QQt\n",
    "binomial_part_specialized =\n",
    "    hom(Kaxy, Ktxy, hom(Ka, Kt, perturbed_parameters), gens(Ktxy)).(binomial_part)\n",
    "nu = tropical_semiring_map(Kt, t)\n",
    "time_TropB = @elapsed TropB = Oscar.tropical_variety_binomial(ideal(binomial_part_specialized), nu)"
   ]
  },
  {
   "cell_type": "markdown",
   "metadata": {},
   "source": [
    "## Computation of tropical intersection points"
   ]
  },
  {
   "cell_type": "code",
   "execution_count": 10,
   "metadata": {},
   "outputs": [
    {
     "ename": "UndefVarError",
     "evalue": "UndefVarError: `TropB` not defined",
     "output_type": "error",
     "traceback": [
      "UndefVarError: `TropB` not defined\n",
      "\n",
      "Stacktrace:\n",
      " [1] macro expansion\n",
      "   @ ./timing.jl:279 [inlined]\n",
      " [2] top-level scope\n",
      "   @ ~/Projects/TropicalHomotopies/TropicalHomotopies.jl/case_studies/wnt_pathway.ipynb:1"
     ]
    }
   ],
   "source": [
    "@time pts, mults = tropical_stable_intersection_linear_binomial(TropL, TropB)\n",
    "projected_pts = [w[1:ngens(Kx)] for w in pts]\n",
    "grc = sum(mults)\n",
    "\n",
    "display(projected_pts)\n",
    "display(mults)\n",
    "display(grc)"
   ]
  },
  {
   "cell_type": "markdown",
   "metadata": {},
   "source": [
    "## Computation of initials and homotopies for a given point"
   ]
  },
  {
   "cell_type": "code",
   "execution_count": 11,
   "metadata": {},
   "outputs": [
    {
     "ename": "UndefVarError",
     "evalue": "UndefVarError: `Ktx` not defined",
     "output_type": "error",
     "traceback": [
      "UndefVarError: `Ktx` not defined\n",
      "\n",
      "Stacktrace:\n",
      " [1] top-level scope\n",
      "   @ ~/Projects/TropicalHomotopies/TropicalHomotopies.jl/case_studies/wnt_pathway.ipynb:9"
     ]
    }
   ],
   "source": [
    "# Substitution homomorphism Kxy -> Kx with y -> target_parametrs.*monomial_vector\n",
    "Kxy, xy = polynomial_ring(K, symbols(Kaxy))\n",
    "target_parameters = (c -> evaluate(c, QQ(1))).(perturbed_parameters)\n",
    "monomial_vector = -hom(Kaxy, Kx, hom(Ka, K, ones(Int, m)), vcat(gens(Kx), zeros(Kx, m))).(binomial_part)\n",
    "target_monomial_vector = target_parameters .* monomial_vector\n",
    "substitute_y_by_monomials = hom(Kxy, Kx, vcat(gens(Kx), target_monomial_vector))\n",
    "\n",
    "# Substitution homomorphism Kxy -> Ktx with y -> perturbed_parameters.*monomial_vector\n",
    "perturbed_monomial_vector = perturbed_parameters .* hom(Kx, Ktx, gens(Ktx)).(monomial_vector)\n",
    "substitute_y_by_perturbed_monomials = hom(Kxy, Ktx, vcat(gens(Ktx), perturbed_monomial_vector));\n"
   ]
  },
  {
   "cell_type": "code",
   "execution_count": 12,
   "metadata": {},
   "outputs": [
    {
     "ename": "UndefVarError",
     "evalue": "UndefVarError: `pts` not defined",
     "output_type": "error",
     "traceback": [
      "UndefVarError: `pts` not defined\n",
      "\n",
      "Stacktrace:\n",
      " [1] top-level scope\n",
      "   @ ~/Projects/TropicalHomotopies/TropicalHomotopies.jl/case_studies/wnt_pathway.ipynb:2"
     ]
    }
   ],
   "source": [
    "# Choice of point\n",
    "w = pts[1]\n",
    "\n",
    "# Compute the tropical Gröbner basis and initial for the linear part\n",
    "G_linear = groebner_basis(ideal(linear_part_specialized), nu_K, w)\n",
    "initials_linear = initial.(G_linear, Ref(nu_K), Ref(w))\n",
    "\n",
    "# Substitute the y variables by the monomials\n",
    "initials = substitute_y_by_monomials.(initials_linear)\n",
    "\n",
    "# Tropical Gröbner basis\n",
    "G = substitute_y_by_perturbed_monomials.(G_linear)"
   ]
  },
  {
   "cell_type": "code",
   "execution_count": 13,
   "metadata": {},
   "outputs": [
    {
     "ename": "UndefVarError",
     "evalue": "UndefVarError: `w` not defined",
     "output_type": "error",
     "traceback": [
      "UndefVarError: `w` not defined\n",
      "\n",
      "Stacktrace:\n",
      " [1] top-level scope\n",
      "   @ ~/Projects/TropicalHomotopies/TropicalHomotopies.jl/case_studies/wnt_pathway.ipynb:2"
     ]
    }
   ],
   "source": [
    "# Homotopy in OSCAR format\n",
    "projected_point = w[1:ngens(Kx)]\n",
    "H = homotopy_from_tropical_data(G,projected_point)"
   ]
  },
  {
   "cell_type": "markdown",
   "metadata": {},
   "source": [
    "## Solve start system and trace along homotopy"
   ]
  },
  {
   "cell_type": "code",
   "execution_count": 14,
   "metadata": {},
   "outputs": [
    {
     "ename": "UndefVarError",
     "evalue": "UndefVarError: `initials` not defined",
     "output_type": "error",
     "traceback": [
      "UndefVarError: `initials` not defined\n",
      "\n",
      "Stacktrace:\n",
      " [1] top-level scope\n",
      "   @ ~/Projects/TropicalHomotopies/TropicalHomotopies.jl/case_studies/wnt_pathway.ipynb:2"
     ]
    }
   ],
   "source": [
    "# Solve start system\n",
    "S_HC = HC_system_from_Oscar_system(initials)\n",
    "start_solutions = solve_binomial_system(S_HC)"
   ]
  },
  {
   "cell_type": "code",
   "execution_count": 15,
   "metadata": {},
   "outputs": [
    {
     "ename": "UndefVarError",
     "evalue": "UndefVarError: `H` not defined",
     "output_type": "error",
     "traceback": [
      "UndefVarError: `H` not defined\n",
      "\n",
      "Stacktrace:\n",
      " [1] top-level scope\n",
      "   @ ~/Projects/TropicalHomotopies/TropicalHomotopies.jl/case_studies/wnt_pathway.ipynb:2"
     ]
    }
   ],
   "source": [
    "# Homotopy in HC format\n",
    "H_HC = export_homotopy_from_oscar_to_HC(H)\n",
    "trace_solutions_along_homotopy(H_HC, start_solutions)"
   ]
  },
  {
   "cell_type": "markdown",
   "metadata": {},
   "source": [
    "## Functions that put the above together"
   ]
  },
  {
   "cell_type": "code",
   "execution_count": 16,
   "metadata": {},
   "outputs": [],
   "source": [
    "# Computation of tropical intersection data\n",
    "grc, projected_pts, initial_systems, tropical_groebner_bases, perturbed_parameters =\n",
    "    tropical_root_count_with_homotopy_data_vertical(F, perturbed_parameters=perturbed_parameters, verbose=true)"
   ]
  },
  {
   "cell_type": "markdown",
   "metadata": {},
   "source": [
    "## Function that solves the full system"
   ]
  },
  {
   "cell_type": "code",
   "execution_count": null,
   "metadata": {},
   "outputs": [],
   "source": [
    "# Function that uses all of the above to solve the system\n",
    "sols = tropical_solve(F, target_parameters; type_of_system=:vertical, verbose=true)"
   ]
  },
  {
   "cell_type": "code",
   "execution_count": null,
   "metadata": {},
   "outputs": [],
   "source": [
    "# Certification\n",
    "F_target_HC = HC_system_from_Oscar_system(target_system)\n",
    "HC.certify(F_target_HC, sols)"
   ]
  },
  {
   "cell_type": "markdown",
   "metadata": {},
   "source": [
    "Things to do:\n",
    "* Check why certification fails"
   ]
  },
  {
   "cell_type": "markdown",
   "metadata": {},
   "source": []
  }
 ],
 "metadata": {
  "kernelspec": {
   "display_name": "Julia 1.10.4",
   "language": "julia",
   "name": "julia-1.10"
  },
  "language_info": {
   "file_extension": ".jl",
   "mimetype": "application/julia",
   "name": "julia",
   "version": "1.10.4"
  }
 },
 "nbformat": 4,
 "nbformat_minor": 2
}
