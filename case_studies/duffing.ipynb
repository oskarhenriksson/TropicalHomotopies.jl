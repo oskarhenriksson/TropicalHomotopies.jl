{
 "cells": [
  {
   "cell_type": "code",
   "execution_count": 1,
   "metadata": {},
   "outputs": [
    {
     "name": "stdout",
     "output_type": "stream",
     "text": [
      "\r"
     ]
    }
   ],
   "source": [
    "include(\"../src/main.jl\");"
   ]
  },
  {
   "cell_type": "code",
   "execution_count": 2,
   "metadata": {},
   "outputs": [],
   "source": [
    "# Random choice of target parameters\n",
    "(a10, a11, a12, a13, a14, a20, a21, a22, a23, a24, a30, a31, a32, a33, a34, a40, a41, a42, a43, a44) =\n",
    "    rand(1:100,20);"
   ]
  },
  {
   "cell_type": "code",
   "execution_count": 3,
   "metadata": {},
   "outputs": [
    {
     "data": {
      "text/plain": [
       "System of length 14\n",
       " 14 variables: u1, u2, v1, v2, z11, z12, z21, z22, z31, z32, z41, z42, y1, y2\n",
       "\n",
       " 45 + 17*u1 + 26*v1 + 53*z11 + 52*z12\n",
       " 52 + 18*u1 + 15*v1 + 40*z21 + 4*z22\n",
       " 60 + 88*u2 + 2*v2 + 51*z31 + 54*z32\n",
       " 21 + 81*u2 + 35*v2 + 46*z41 + 57*z42\n",
       " z11 - u1*y1\n",
       " z12 - u1*y2\n",
       " z21 - v1*y1\n",
       " z22 - v1*y2\n",
       " z31 - u2*y1\n",
       " z32 - u2*y2\n",
       " z41 - v2*y1\n",
       " z42 - v2*y2\n",
       " y1 - (u1^2 + v1^2)\n",
       " y2 - (u2^2 + v2^2)"
      ]
     },
     "metadata": {},
     "output_type": "display_data"
    }
   ],
   "source": [
    "# Construct the modified system\n",
    "HC.@var u1 u2 v1 v2 z11 z12 z21 z22 z31 z32 z41 z42 y1 y2\n",
    "\n",
    "u_variables = [u1, u2]\n",
    "v_variables = [v1, v2]\n",
    "\n",
    "linear_part = [a10 + a11*u1 + a12*v1 + a13*z11 + a14*z12,\n",
    "    a20 + a21*u1 + a22*v1 + a23*z21 + a24*z22,\n",
    "    a30 + a31*u2 + a32*v2 + a33*z31 + a34*z32,\n",
    "    a40 + a41*u2 + a42*v2 + a43*z41 + a44*z42]\n",
    "\n",
    "z_variables = [z11, z12, z21, z22, z31, z32, z41, z42]\n",
    "z_expressions = [u1*y1, u1*y2, v1*y1, v1*y2, u2*y1, u2*y2, v2*y1, v2*y2]\n",
    "\n",
    "y_variables = [y1, y2]\n",
    "y_expressions = [u1^2 + v1^2, u2^2 + v2^2]\n",
    "\n",
    "F_modified = HC.System(vcat(linear_part, z_variables-z_expressions, y_variables-y_expressions), \n",
    "    variables=vcat(u_variables, v_variables, z_variables, y_variables)\n",
    ")"
   ]
  },
  {
   "cell_type": "code",
   "execution_count": 4,
   "metadata": {},
   "outputs": [],
   "source": [
    "# Polyhedral homotopies for the modified system\n",
    "homotopies_modified, start_systems_modified = polyhedral_homotopies_and_start_systems(F_modified);"
   ]
  },
  {
   "cell_type": "code",
   "execution_count": 5,
   "metadata": {},
   "outputs": [
    {
     "data": {
      "text/plain": [
       "Homotopy in t of length 14\n",
       " 14 variables: u1, u2, v1, v2, z11, z12, z21, z22, z31, z32, z41, z42, y1, y2\n",
       "\n",
       " 45 + 53*z11 + 17*t^38*u1 + 26*t^820*v1 + 52*t^1932*z12\n",
       " 18*u1 + 40*z21 + 15*t^722*v1 + 4*t^1968*z22 + 52*t^76\n",
       " 60 + 2*v2 + 54*t^235*z32 + 88*t^267*u2 + 51*t^355*z31\n",
       " 46*z41 + 57*z42 + 35*t^728*v2 + 81*t^2135*u2 + 21*t^1094\n",
       " z11 - u1*y1\n",
       " z12 - u1*y2\n",
       " z21 - v1*y1\n",
       " z22 - v1*y2\n",
       " z31 - u2*y1\n",
       " z32 - u2*y2\n",
       " z41 - v2*y1\n",
       " z42 - v2*y2\n",
       " y1 - t^2248*v1^2 - u1^2\n",
       " t^2404*y2 - u2^2 - v2^2"
      ]
     },
     "metadata": {},
     "output_type": "display_data"
    },
    {
     "data": {
      "text/plain": [
       "System of length 14\n",
       " 14 variables: u1, u2, v1, v2, y1, y2, z11, z12, z21, z22, z31, z32, z41, z42\n",
       "\n",
       " 45 + 53*z11\n",
       " 18*u1 + 40*z21\n",
       " 60 + 2*v2\n",
       " 46*z41 + 57*z42\n",
       " z11 - u1*y1\n",
       " z12 - u1*y2\n",
       " z21 - v1*y1\n",
       " z22 - v1*y2\n",
       " z31 - u2*y1\n",
       " z32 - u2*y2\n",
       " z41 - v2*y1\n",
       " z42 - v2*y2\n",
       " y1 - u1^2\n",
       " -u2^2 - v2^2"
      ]
     },
     "metadata": {},
     "output_type": "display_data"
    }
   ],
   "source": [
    "# Example of homotopy and start system\n",
    "display(homotopies_modified[1])\n",
    "display(start_systems_modified[1])"
   ]
  },
  {
   "cell_type": "code",
   "execution_count": 6,
   "metadata": {},
   "outputs": [],
   "source": [
    "# Back-substitute to homotopies for the original system\n",
    "homotopies = HC.ModelKit.Homotopy[]\n",
    "for H in homotopies_modified\n",
    "    t = H.t\n",
    "    H_new = HC.subs.(HC.subs.(H.expressions[1:length(linear_part)], z_variables=>z_expressions), y_variables=>y_expressions)\n",
    "    push!(homotopies, HC.Homotopy(H_new, vcat(u_variables, v_variables), t))\n",
    "end"
   ]
  },
  {
   "cell_type": "code",
   "execution_count": 7,
   "metadata": {},
   "outputs": [
    {
     "data": {
      "text/plain": [
       "Homotopy in t of length 4\n",
       " 4 variables: u1, u2, v1, v2\n",
       "\n",
       " 45 + 17*t^38*u1 + 26*t^820*v1 + 53*(u1^2 + v1^2)*u1 + 52*t^1932*(u2^2 + v2^2)*u1\n",
       " 18*u1 + 15*t^722*v1 + 40*(u1^2 + v1^2)*v1 + 4*t^1968*(u2^2 + v2^2)*v1 + 52*t^76\n",
       " 60 + 2*v2 + 88*t^267*u2 + 54*t^235*(u2^2 + v2^2)*u2 + 51*t^355*(u1^2 + v1^2)*u2\n",
       " 35*t^728*v2 + 81*t^2135*u2 + 46*(u1^2 + v1^2)*v2 + 57*(u2^2 + v2^2)*v2 + 21*t^1094"
      ]
     },
     "metadata": {},
     "output_type": "display_data"
    }
   ],
   "source": [
    "# Example of homotopy\n",
    "display(homotopies[1])"
   ]
  }
 ],
 "metadata": {
  "kernelspec": {
   "display_name": "Julia 1.10.4",
   "language": "julia",
   "name": "julia-1.10"
  },
  "language_info": {
   "file_extension": ".jl",
   "mimetype": "application/julia",
   "name": "julia",
   "version": "1.10.4"
  }
 },
 "nbformat": 4,
 "nbformat_minor": 2
}
