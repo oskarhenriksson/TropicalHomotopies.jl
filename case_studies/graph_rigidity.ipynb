{
 "cells": [
  {
   "cell_type": "code",
   "execution_count": 1,
   "metadata": {},
   "outputs": [
    {
     "name": "stdout",
     "output_type": "stream",
     "text": [
      "\r"
     ]
    }
   ],
   "source": [
    "include(\"../src/main.jl\");\n",
    "include(\"helper_functions_rigidity.jl\");"
   ]
  },
  {
   "cell_type": "code",
   "execution_count": 2,
   "metadata": {},
   "outputs": [
    {
     "data": {
      "text/plain": [
       "5-element Vector{AbstractAlgebra.Generic.LaurentMPolyWrap{QQMPolyRingElem, AbstractAlgebra.Generic.MPoly{QQMPolyRingElem}, AbstractAlgebra.Generic.LaurentMPolyWrapRing{QQMPolyRingElem, AbstractAlgebra.Generic.MPolyRing{QQMPolyRingElem}}}}:\n",
       " x12 - x13 + x23\n",
       " x23 - x24 + x34\n",
       " λ23*x23^-1 - λ13*x13^-1 + λ12*x12^-1\n",
       " λ34*x34^-1 - λ24*x24^-1 + λ23*x23^-1\n",
       " x23 - 1"
      ]
     },
     "metadata": {},
     "output_type": "display_data"
    },
    {
     "data": {
      "text/plain": [
       "Multivariate polynomial ring in 5 variables x12, x13, x23, x24, x34\n",
       "  over multivariate polynomial ring in 5 variables over QQ"
      ]
     },
     "metadata": {},
     "output_type": "display_data"
    }
   ],
   "source": [
    "# Laurent polynomial system\n",
    "QQa, (lambda12,lambda13,lambda23,lambda24,lambda34) = polynomial_ring(QQ,[\"λ12\",\"λ13\",\"λ23\",\"λ24\",\"λ34\"])\n",
    "QQaxpm, (x12,x13,x23,x24,x34) = laurent_polynomial_ring(QQa,[\"x12\",\"x13\",\"x23\",\"x24\",\"x34\"])\n",
    "\n",
    "F_laurent = [x12+x23-x13,\n",
    "    x23+x34-x24, \n",
    "    lambda12*x12^-1+lambda23*x23^-1-lambda13*x13^-1,\n",
    "    lambda23*x23^-1+lambda34*x34^-1-lambda24*x24^-1, \n",
    "    x23-1\n",
    "]\n",
    "\n",
    "display(F_laurent)\n",
    "\n",
    "# Conver to polynomial system\n",
    "F = [f.mpoly for f in F_laurent]\n",
    "QQax = parent(first(F))"
   ]
  },
  {
   "cell_type": "code",
   "execution_count": 3,
   "metadata": {},
   "outputs": [],
   "source": [
    "# Construct the graph\n",
    "G = Graph{Undirected}(4)\n",
    "add_edge!(G,1,2) # 1\n",
    "add_edge!(G,1,3) # 2\n",
    "add_edge!(G,2,3) # 3\n",
    "add_edge!(G,2,4) # 4\n",
    "add_edge!(G,3,4) # 5\n",
    "\n",
    "# Construct the edge matrix\n",
    "edgeMatrix = zeros(QQ,nv(G),ne(G))\n",
    "for (i,edge) in enumerate(edges(G))\n",
    "    edgeMatrix[dst(edge),i] = 1\n",
    "    edgeMatrix[src(edge),i] = -1\n",
    "end"
   ]
  },
  {
   "cell_type": "code",
   "execution_count": 4,
   "metadata": {},
   "outputs": [
    {
     "data": {
      "text/plain": [
       "5-element Vector{AbstractAlgebra.Generic.MPoly{AbstractAlgebra.Generic.RationalFunctionFieldElem{QQFieldElem, QQPolyRingElem}}}:\n",
       " x12 - x13 + x23\n",
       " x23 - x24 + x34\n",
       " t^5*x12*x13 - t^4*x12*x23 + t^3*x13*x23\n",
       " t^7*x23*x24 - t^6*x23*x34 + t^5*x24*x34\n",
       " x23 - 1"
      ]
     },
     "metadata": {},
     "output_type": "display_data"
    }
   ],
   "source": [
    "# Pertubation of system\n",
    "v = [3,4,5,6,7]\n",
    "QQt, t  = rational_function_field(QQ,\"t\")\n",
    "QQtx, (x12,x13,x23,x24,x34) = polynomial_ring(QQt,symbols(QQax))\n",
    "phi = hom(QQax, QQtx, c -> evaluate(c, t.^v), gens(QQtx))\n",
    "F_specialized = phi.(F)"
   ]
  },
  {
   "cell_type": "code",
   "execution_count": 5,
   "metadata": {},
   "outputs": [
    {
     "data": {
      "text/plain": [
       "Min tropical variety"
      ]
     },
     "metadata": {},
     "output_type": "display_data"
    }
   ],
   "source": [
    "# Tropicalizations\n",
    "Sigma = tropical_linear_space(edgeMatrix)\n",
    "SigmaInverted = -Sigma\n",
    "SigmaInvertedShifted = SigmaInverted + v"
   ]
  },
  {
   "cell_type": "code",
   "execution_count": 6,
   "metadata": {},
   "outputs": [
    {
     "data": {
      "text/plain": [
       "4-element Vector{Vector{QQFieldElem}}:\n",
       " [0, 1, 0, 1, 0]\n",
       " [0, 1, 0, 0, 2]\n",
       " [-2, -2, 0, 1, 0]\n",
       " [-2, -2, 0, 0, 2]"
      ]
     },
     "metadata": {},
     "output_type": "display_data"
    }
   ],
   "source": [
    "# Check transersality and compute intersection\n",
    "# This should be inluded in Oscar in the future\n",
    "nonEmptyIntersections = []\n",
    "intersectionMultiplicities = ZZRingElem[]\n",
    "for (i,sigma) in enumerate(maximal_polyhedra(Sigma))\n",
    "    for (j,tau) in enumerate(maximal_polyhedra(SigmaInvertedShifted))\n",
    "        sigmaTau = intersect(sigma,tau)\n",
    "        @assert (dim(sigmaTau)<0)||(dim(sigmaTau)==1) \"shift non-generic\"\n",
    "        if (dim(sigmaTau)==1)\n",
    "            push!(nonEmptyIntersections,sigmaTau)\n",
    "            push!(intersectionMultiplicities,Oscar.tropical_intersection_multiplicity(sigma,tau))\n",
    "        end\n",
    "    end\n",
    "end\n",
    "\n",
    "pts = Vector{QQFieldElem}[]\n",
    "for sigma in nonEmptyIntersections\n",
    "    w = first(minimal_faces(sigma).base_points)\n",
    "    w = w .- w[3]\n",
    "    push!(pts,Vector(w))\n",
    "end\n",
    "\n",
    "display(pts)"
   ]
  },
  {
   "cell_type": "code",
   "execution_count": 7,
   "metadata": {},
   "outputs": [
    {
     "data": {
      "text/plain": [
       "5-element Vector{QQFieldElem}:\n",
       " 0\n",
       " 1\n",
       " 0\n",
       " 1\n",
       " 0"
      ]
     },
     "metadata": {},
     "output_type": "display_data"
    },
    {
     "data": {
      "text/plain": [
       "5-element Vector{AbstractAlgebra.Generic.MPoly{AbstractAlgebra.Generic.RationalFunctionFieldElem{QQFieldElem, QQPolyRingElem}}}:\n",
       " x12 - t*x13 + x23\n",
       " x23 - t*x24 + x34\n",
       " t^2*x12*x13 - x12*x23 + x13*x23\n",
       " t^2*x23*x24 - x23*x34 + x24*x34\n",
       " x23 - 1"
      ]
     },
     "metadata": {},
     "output_type": "display_data"
    },
    {
     "data": {
      "text/plain": [
       "5-element Vector{QQFieldElem}:\n",
       " 0\n",
       " 1\n",
       " 0\n",
       " 0\n",
       " 2"
      ]
     },
     "metadata": {},
     "output_type": "display_data"
    },
    {
     "data": {
      "text/plain": [
       "5-element Vector{AbstractAlgebra.Generic.MPoly{AbstractAlgebra.Generic.RationalFunctionFieldElem{QQFieldElem, QQPolyRingElem}}}:\n",
       " x12 - t*x13 + x23\n",
       " x23 - x24 + t^2*x34\n",
       " t^2*x12*x13 - x12*x23 + x13*x23\n",
       " x23*x24 - t*x23*x34 + x24*x34\n",
       " x23 - 1"
      ]
     },
     "metadata": {},
     "output_type": "display_data"
    },
    {
     "data": {
      "text/plain": [
       "5-element Vector{QQFieldElem}:\n",
       " -2\n",
       " -2\n",
       " 0\n",
       " 1\n",
       " 0"
      ]
     },
     "metadata": {},
     "output_type": "display_data"
    },
    {
     "data": {
      "text/plain": [
       "5-element Vector{AbstractAlgebra.Generic.MPoly{AbstractAlgebra.Generic.RationalFunctionFieldElem{QQFieldElem, QQPolyRingElem}}}:\n",
       " x12 - x13 + t^2*x23\n",
       " x23 - t*x24 + x34\n",
       " x12*x13 - t*x12*x23 + x13*x23\n",
       " t^2*x23*x24 - x23*x34 + x24*x34\n",
       " x23 - 1"
      ]
     },
     "metadata": {},
     "output_type": "display_data"
    },
    {
     "data": {
      "text/plain": [
       "5-element Vector{QQFieldElem}:\n",
       " -2\n",
       " -2\n",
       " 0\n",
       " 0\n",
       " 2"
      ]
     },
     "metadata": {},
     "output_type": "display_data"
    },
    {
     "data": {
      "text/plain": [
       "5-element Vector{AbstractAlgebra.Generic.MPoly{AbstractAlgebra.Generic.RationalFunctionFieldElem{QQFieldElem, QQPolyRingElem}}}:\n",
       " x12 - x13 + t^2*x23\n",
       " x23 - x24 + t^2*x34\n",
       " x12*x13 - t*x12*x23 + x13*x23\n",
       " x23*x24 - t*x23*x34 + x24*x34\n",
       " x23 - 1"
      ]
     },
     "metadata": {},
     "output_type": "display_data"
    },
    {
     "name": "stdout",
     "output_type": "stream",
     "text": [
      "\n",
      "\n",
      "\n",
      "\n"
     ]
    }
   ],
   "source": [
    "# Computation of homotopies\n",
    "for w in pts \n",
    "    display(w)\n",
    "    display(homotopy_from_tropical_data(F_specialized, w))\n",
    "    println()\n",
    "end"
   ]
  }
 ],
 "metadata": {
  "kernelspec": {
   "display_name": "Julia 1.10.4",
   "language": "julia",
   "name": "julia-1.10"
  },
  "language_info": {
   "file_extension": ".jl",
   "mimetype": "application/julia",
   "name": "julia",
   "version": "1.10.4"
  }
 },
 "nbformat": 4,
 "nbformat_minor": 2
}
